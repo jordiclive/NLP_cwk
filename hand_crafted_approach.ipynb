{
 "cells": [
  {
   "cell_type": "code",
   "execution_count": null,
   "metadata": {
    "cell_id": "00000-5f4880ed-f2ad-4cb3-a884-bab5c78b399b",
    "deepnote_cell_type": "code",
    "id": "Z1G9YstKEjuk"
   },
   "outputs": [],
   "source": [
    "!pip install vaderSentiment -q\n",
    "!pip install strsim -q\n",
    "!pip install textblob -q"
   ]
  },
  {
   "cell_type": "code",
   "execution_count": null,
   "metadata": {
    "cell_id": "00001-e1042a07-0261-4b8b-bf02-f49a7d19bced",
    "deepnote_cell_type": "code",
    "id": "IYgDc7o_Eh9W"
   },
   "outputs": [],
   "source": [
    "import string\n",
    "import warnings\n",
    "\n",
    "import lightgbm as lgb\n",
    "import matplotlib.pyplot as plt\n",
    "import nltk\n",
    "import numpy as np\n",
    "import pandas as pd\n",
    "import regex as re\n",
    "import seaborn as sns\n",
    "from nltk import pos_tag\n",
    "from nltk.stem import WordNetLemmatizer\n",
    "from sklearn import linear_model\n",
    "from sklearn.feature_extraction.text import CountVectorizer, TfidfTransformer\n",
    "from sklearn.metrics import mean_squared_error as MSE\n",
    "from sklearn.model_selection import KFold\n",
    "from sklearn.decomposition import LatentDirichletAllocation\n",
    "from textblob import TextBlob\n",
    "from vaderSentiment.vaderSentiment import SentimentIntensityAnalyzer\n",
    "\n",
    "from similarity.normalized_levenshtein import NormalizedLevenshtein\n",
    "from similarity.jarowinkler import JaroWinkler\n",
    "from similarity.longest_common_subsequence import LongestCommonSubsequence"
   ]
  },
  {
   "cell_type": "code",
   "execution_count": null,
   "metadata": {
    "cell_id": "00002-c91b9956-d499-4b0a-b990-803d93b46089",
    "deepnote_cell_type": "code",
    "id": "pfnMN3Q-TbCf"
   },
   "outputs": [],
   "source": [
    "def model_performance(output, target, print_output=False):\n",
    "    \"\"\"\n",
    "    Returns SSE and MSE per batch (printing the MSE and the RMSE)\n",
    "    \"\"\"\n",
    "\n",
    "    sq_error = (output - target) ** 2\n",
    "\n",
    "    sse = np.sum(sq_error)\n",
    "    mse = np.mean(sq_error)\n",
    "    rmse = np.sqrt(mse)\n",
    "\n",
    "    if print_output:\n",
    "        print(f\"| MSE: {mse:.4f} | RMSE: {rmse:.4f} |\")\n",
    "    return sse, mse\n"
   ]
  },
  {
   "cell_type": "code",
   "execution_count": null,
   "metadata": {
    "cell_id": "00003-25d4d31f-6f79-4527-9c48-2431bad415c7",
    "colab": {
     "base_uri": "https://localhost:8080/"
    },
    "deepnote_cell_type": "code",
    "id": "tL6fLeyyEiav",
    "outputId": "00584c87-4239-4df8-8b89-978fe8369612"
   },
   "outputs": [
    {
     "name": "stdout",
     "output_type": "stream",
     "text": [
      "[nltk_data] Downloading package averaged_perceptron_tagger to\n",
      "[nltk_data]     /root/nltk_data...\n",
      "[nltk_data]   Package averaged_perceptron_tagger is already up-to-\n",
      "[nltk_data]       date!\n",
      "[nltk_data] Downloading package wordnet to /root/nltk_data...\n",
      "[nltk_data]   Package wordnet is already up-to-date!\n"
     ]
    }
   ],
   "source": [
    "nltk.download(\"averaged_perceptron_tagger\")\n",
    "nltk.download('wordnet')\n",
    "\n",
    "warnings.simplefilter(action=\"ignore\", category=FutureWarning)\n",
    "pd.set_option(\"display.max_columns\", 500)"
   ]
  },
  {
   "cell_type": "code",
   "execution_count": null,
   "metadata": {
    "cell_id": "00004-1cf62d34-3485-4707-9cfd-62995027223c",
    "deepnote_cell_type": "code",
    "id": "5h7LLxrhHx0j"
   },
   "outputs": [],
   "source": [
    "train_h = pd.read_csv(\"data/train.csv\")\n",
    "train_f = pd.read_csv(\"data/train_funlines.csv\")\n",
    "\n",
    "dev_h = pd.read_csv(\"data/dev.csv\")\n",
    "test_h = pd.read_csv(\"data/test_with_label.csv\")"
   ]
  },
  {
   "cell_type": "code",
   "execution_count": null,
   "metadata": {
    "cell_id": "00005-c5d190cd-5d77-4b4e-aff1-4ecd7414b9be",
    "colab": {
     "base_uri": "https://localhost:8080/"
    },
    "deepnote_cell_type": "code",
    "id": "DpY3a-a0E286",
    "outputId": "90650704-1912-4de9-8add-6f7d0885b7e7"
   },
   "outputs": [
    {
     "name": "stdout",
     "output_type": "stream",
     "text": [
      "Mem. usage decreased to  0.26 Mb (30.0% reduction)\n",
      "Mem. usage decreased to  0.24 Mb (25.0% reduction)\n",
      "Mem. usage decreased to  0.06 Mb (30.0% reduction)\n",
      "Mem. usage decreased to  0.08 Mb (30.0% reduction)\n"
     ]
    }
   ],
   "source": [
    "def reduce_mem_usage(df, verbose=True):\n",
    "    \"\"\"\n",
    "    Reduces memory requirements for pandas dataframe\n",
    "    :param df: DataFrame\n",
    "    :verbose: bool\n",
    "    \"\"\"\n",
    "    numerics = [\"int16\", \"int32\", \"int64\", \"float16\", \"float32\", \"float64\"]\n",
    "    start_mem = df.memory_usage().sum() / 1024 ** 2\n",
    "    for col in df.columns:\n",
    "        col_type = df[col].dtypes\n",
    "        if col_type in numerics:\n",
    "            c_min = df[col].min()\n",
    "            c_max = df[col].max()\n",
    "            if str(col_type)[:3] == \"int\":\n",
    "                if c_min > np.iinfo(np.int8).min and c_max < np.iinfo(np.int8).max:\n",
    "                    df[col] = df[col].astype(np.int8)\n",
    "                elif c_min > np.iinfo(np.int16).min and c_max < np.iinfo(np.int16).max:\n",
    "                    df[col] = df[col].astype(np.int16)\n",
    "                elif c_min > np.iinfo(np.int32).min and c_max < np.iinfo(np.int32).max:\n",
    "                    df[col] = df[col].astype(np.int32)\n",
    "                elif c_min > np.iinfo(np.int64).min and c_max < np.iinfo(np.int64).max:\n",
    "                    df[col] = df[col].astype(np.int64)\n",
    "            else:\n",
    "                if c_min > np.finfo(np.float16).min and c_max < np.finfo(np.float16).max:\n",
    "                    df[col] = df[col].astype(np.float16)\n",
    "                elif c_min > np.finfo(np.float32).min and c_max < np.finfo(np.float32).max:\n",
    "                    df[col] = df[col].astype(np.float32)\n",
    "                else:\n",
    "                    df[col] = df[col].astype(np.float64)\n",
    "    end_mem = df.memory_usage().sum() / 1024 ** 2\n",
    "    if verbose:\n",
    "        print(\n",
    "            \"Mem. usage decreased to {:5.2f} Mb ({:.1f}% reduction)\".format(\n",
    "                end_mem, 100 * (start_mem - end_mem) / start_mem\n",
    "            )\n",
    "        )\n",
    "    return df\n",
    "\n",
    "\n",
    "def apply(list_of_dfs, fn):\n",
    "    \"\"\"\n",
    "    Applies a function to a list of pandas dataframes\n",
    "    :param list_of_dfs: list of pandas DataFrames\n",
    "    :param fn: function to be applied\n",
    "    \"\"\"\n",
    "    for i in list_of_dfs:\n",
    "        i = fn(i)\n",
    "\n",
    "\n",
    "X = [train_h, train_f, dev_h, test_h]\n",
    "\n",
    "apply(X, reduce_mem_usage)"
   ]
  },
  {
   "cell_type": "code",
   "execution_count": null,
   "metadata": {
    "cell_id": "00006-7d0ecdf0-a577-44e7-8f7c-4bc0a77db1c6",
    "colab": {
     "base_uri": "https://localhost:8080/"
    },
    "deepnote_cell_type": "code",
    "id": "HHGDDRGuIV7n",
    "outputId": "48b7728c-19e0-4dbb-89bb-d48a519ea315"
   },
   "outputs": [
    {
     "name": "stdout",
     "output_type": "stream",
     "text": [
      "Empty DataFrame\n",
      "Columns: [id, original, edit, grades, meanGrade]\n",
      "Index: []\n",
      "Empty DataFrame\n",
      "Columns: [id, original, edit, grades, meanGrade]\n",
      "Index: []\n",
      "Empty DataFrame\n",
      "Columns: [id, original, edit, grades, meanGrade]\n",
      "Index: []\n",
      "Empty DataFrame\n",
      "Columns: [id, original, edit, grades, meanGrade]\n",
      "Index: []\n"
     ]
    }
   ],
   "source": [
    "\n",
    "nans = lambda df: print(df[df.isnull().any(axis=1)])\n",
    "apply(X, nans)\n"
   ]
  },
  {
   "cell_type": "code",
   "execution_count": null,
   "metadata": {
    "cell_id": "00007-0b664bc9-2afe-4c26-bf05-6f30280cb32a",
    "colab": {
     "base_uri": "https://localhost:8080/"
    },
    "deepnote_cell_type": "code",
    "id": "TAka4H40IYS3",
    "outputId": "136c1c38-773a-45ba-a07f-06dbd6adf036"
   },
   "outputs": [
    {
     "name": "stdout",
     "output_type": "stream",
     "text": [
      "9\n"
     ]
    }
   ],
   "source": [
    "def get_position_and_context(df, column=\"original\"):\n",
    "    \"\"\"\n",
    "    Extract the word to be replaced from the original column, and the surrounding context as additional column(s)\n",
    "    :param df: pandas DataFrame\n",
    "    \"\"\"\n",
    "\n",
    "    df[\"old_word\"] = df[column].apply(lambda x: re.findall(\"<(.*)/>\", x)[0])\n",
    "    df[\"context\"] = df[column].apply(lambda x: re.findall(\"(.*)<.*/>(.*)\", x)[0])\n",
    "    df[\"context\"] = df[\"context\"].apply(lambda x: [j.strip() for j in x])\n",
    "    return df\n",
    "\n",
    "def get_sentences(df):\n",
    "    \"\"\"\n",
    "    Extract the edited sentence and the original non-edited sentence as additional column(s)\n",
    "    :param df: pandas DataFrame\n",
    "    \"\"\"\n",
    "\n",
    "    def get_edited_and_non(df):\n",
    "        edited = df.context[0] + \" \" + df.edit + \" \" + df.context[1]\n",
    "        non_edited = df.context[0] + \" \" + df.old_word + \" \" + df.context[1]\n",
    "        return edited, non_edited\n",
    "\n",
    "    df[\"edited\"], df[\"non_edited\"] = zip(*df.apply(get_edited_and_non, axis=1))\n",
    "\n",
    "\n",
    "apply(X, get_position_and_context)\n",
    "apply(X, get_sentences)\n",
    "print(len(train_h.columns))  # 9"
   ]
  },
  {
   "cell_type": "code",
   "execution_count": null,
   "metadata": {
    "cell_id": "00008-b6ac326d-fdd1-4b5a-8698-66b4e0379f1e",
    "colab": {
     "base_uri": "https://localhost:8080/"
    },
    "deepnote_cell_type": "code",
    "id": "X9tUQ1-BIazJ",
    "outputId": "ca8e3ff5-79ed-43ab-8b38-b44de0f18952"
   },
   "outputs": [
    {
     "name": "stdout",
     "output_type": "stream",
     "text": [
      "12\n"
     ]
    }
   ],
   "source": [
    "def string_similarity_metrics(df):\n",
    "    \"\"\"\n",
    "    Extract string similarity metrics between the edited and original word as additional column(s)\n",
    "    :param df: pandas DataFrame\n",
    "    \"\"\"\n",
    "\n",
    "    df[\"Levenshtein\"] = [NormalizedLevenshtein().distance(i, j) for i, j in zip(df[\"edit\"], df[\"old_word\"])]\n",
    "    df[\"JaroWinkler\"] = [JaroWinkler().distance(i, j) for i, j in zip(df[\"edit\"], df[\"old_word\"])]\n",
    "    df[\"LCSubsequence\"] = [\n",
    "        LongestCommonSubsequence().distance(i, j) for i, j in zip(df[\"edit\"], df[\"old_word\"])\n",
    "    ]\n",
    "\n",
    "\n",
    "apply(X, string_similarity_metrics)  # 12\n",
    "print(len(train_h.columns))"
   ]
  },
  {
   "cell_type": "code",
   "execution_count": null,
   "metadata": {
    "cell_id": "00009-f5f8fcf9-7ae9-48ac-9727-2b7e00552c11",
    "colab": {
     "base_uri": "https://localhost:8080/"
    },
    "deepnote_cell_type": "code",
    "id": "5Lxm2ce9Ifi2",
    "outputId": "8c0fee66-e1f6-43f8-b473-ae412d3b7f6d"
   },
   "outputs": [
    {
     "name": "stdout",
     "output_type": "stream",
     "text": [
      "26\n"
     ]
    }
   ],
   "source": [
    "def other_hand_craft(df, column=\"non_edited\"):\n",
    "    \"\"\"\n",
    "    Extract a number of lexical hand-crafted features for experimentation as additional column(s)\n",
    "    :param df: pandas DataFrame\n",
    "    :param column: str\n",
    "    \"\"\"\n",
    "\n",
    "    df[\"length\"] = df[column].apply(lambda x: len(x))\n",
    "    df[\"capitals\"] = df[column].apply(lambda comment: sum(1 for c in comment if c.isupper()))\n",
    "    df[\"caps_vs_length\"] = df.apply(lambda row: float(row[\"capitals\"]) / float(row[\"length\"]), axis=1)\n",
    "    df[\"num_exclamation_marks\"] = df[column].apply(lambda comment: comment.count(\"!\"))\n",
    "    df[\"num_question_marks\"] = df[column].apply(lambda comment: comment.count(\"?\"))\n",
    "    df[\"num_punctuation\"] = df[column].apply(lambda comment: sum(comment.count(w) for w in \".,;:\"))\n",
    "    df[\"num_symbols\"] = df[column].apply(lambda comment: sum(comment.count(w) for w in \"*&$%\"))\n",
    "    df[\"num_words\"] = df[column].apply(lambda comment: len(comment.split()))\n",
    "    df[\"num_unique_words\"] = df[column].apply(lambda comment: len(set(w for w in comment.split())))\n",
    "    df[\"words_vs_unique\"] = df[\"num_unique_words\"] / df[\"num_words\"]\n",
    "    df[\"num_smilies\"] = df[column].apply(\n",
    "        lambda comment: sum(comment.count(w) for w in (\":-)\", \":)\", \";-)\", \";)\", \":-<\", \":()\", \";-()\", \";(\"))\n",
    "    )\n",
    "    df[\"count_words_title\"] = df[column].apply(lambda x: len([w for w in str(x).split() if w.istitle()]))\n",
    "    df[\"mean_word_len\"] = df[column].apply(lambda x: np.mean([len(w) for w in str(x).split()]))\n",
    "    df[\"punct_percent\"] = df[\"num_punctuation\"] * 100 / df[\"num_words\"]\n",
    "\n",
    "\n",
    "apply(X, other_hand_craft)\n",
    "print(len(train_h.columns))  # 26"
   ]
  },
  {
   "cell_type": "code",
   "execution_count": null,
   "metadata": {
    "cell_id": "00010-4b96ea1a-322b-4531-ac60-27d9b8c7904e",
    "deepnote_cell_type": "code",
    "id": "blSWiDquIiBM"
   },
   "outputs": [],
   "source": [
    "def remove(df, column=\"non_edited\"):\n",
    "    \"\"\"\n",
    "    Pre-processing for the remaining hand-crafted features, non-word symbol removal except apostrophes and hyphens\n",
    "    :param df: pandas DataFrame\n",
    "    :param column: str\n",
    "    \"\"\"\n",
    "\n",
    "    def remove_non_word(x):\n",
    "        X = re.compile(\"[^A-Za-z--–— ']\")  # keep apostrophes and hyphens\n",
    "        x = X.sub(\"\", x)\n",
    "        x = re.sub(\" +\", \" \", x)\n",
    "        return x\n",
    "\n",
    "    df[column] = df[column].apply(remove_non_word)\n",
    "\n",
    "\n",
    "apply(X, remove)\n",
    "apply(X, lambda x: remove(x,'edited'))"
   ]
  },
  {
   "cell_type": "code",
   "execution_count": null,
   "metadata": {
    "cell_id": "00011-3f24d457-0d55-4c3a-ac09-88acc14c4732",
    "colab": {
     "base_uri": "https://localhost:8080/"
    },
    "deepnote_cell_type": "code",
    "id": "AzGwsOEBIxkT",
    "outputId": "bd7447a9-03ed-4cdf-d6b7-79fae21d4585"
   },
   "outputs": [
    {
     "name": "stdout",
     "output_type": "stream",
     "text": [
      "The lemmatized form of leaves is: leaf\n",
      "\n",
      "Topics in LDA model: \n",
      "\n",
      "Topic #0:trump russia gop say new senate democrat clinton health government election vote care hillary senator official investigation call republican campaign black amid end help nominee probe facebook way special seek just firing world party blame killed session tell washington sander\n",
      "======================================================================\n",
      "\n",
      "Topic #1:say china trump american day attack military year right rule deal hit police child talk protester ex state student new party dead sexual school south brexit kill lawmaker uk old sue latest work hope syria eu puppy comment set vow\n",
      "======================================================================\n",
      "\n",
      "Topic #2:trump russian mueller say obamacare news twitter report state big medium paul anti fox charlottesville justice book bbc sign cnn charge death fake putin ryan turkey republican robert deal abortion alleged monkey year texas source repeal family left said start\n",
      "======================================================================\n",
      "\n",
      "Topic #3:trump donald say new tax house plan president nt republican time gop cut face congress california wall comey political leader obama wo democrat fbi judge fight want ahead change administration lawyer meeting key rep 10 chief michael border speech question\n",
      "======================================================================\n",
      "\n",
      "Topic #4:make moore roy video shooting kushner general far violence ca muslim just attorney want billion rally let state guilty supporter clown republican line ruling vega people jared united la franken right banana mass anti healthcare turn world push claim hotel\n",
      "======================================================================\n",
      "\n",
      "Topic #5:trump house white korea north president ban donald tweet court security strike nuclear minister claim foreign missile report week doe flynn chinese city national test obama korean going launch supreme south drug travel ll visit stop company prime penny just\n",
      "======================================================================\n"
     ]
    }
   ],
   "source": [
    "lemm = WordNetLemmatizer()\n",
    "\n",
    "class LemmaCountVectorizer(CountVectorizer):\n",
    "    \"\"\"\n",
    "    A class to conduct Lemmatization on top of the CountVectorizer, to prepare for LDA topic modelling\n",
    "    \"\"\"\n",
    "    \n",
    "    def build_analyzer(self):\n",
    "        analyzer = super(LemmaCountVectorizer, self).build_analyzer()\n",
    "\n",
    "        return lambda doc: (lemm.lemmatize(w) for w in analyzer(doc))\n",
    "\n",
    "\n",
    "\n",
    "# Storing the entire training text in a list\n",
    "text = list(train_h.edited.values)\n",
    "# Calling our overwritten Count vectorizer\n",
    "tf_vectorizer = LemmaCountVectorizer(max_df=0.95,\n",
    "                                     min_df=2,\n",
    "                                     stop_words='english',\n",
    "                                     decode_error='ignore')\n",
    "tf = tf_vectorizer.fit_transform(text)\n",
    "lda = LatentDirichletAllocation(n_components=6, max_iter=5,\n",
    "                                learning_method = 'online',\n",
    "                                learning_offset = 50.,\n",
    "                                random_state = 0)\n",
    "\n",
    "lda.fit(tf)\n",
    "\n",
    "\n",
    "def print_top_words(model, feature_names, n_top_words):\n",
    "    \"\"\"\n",
    "    prints the top words defining each Topic found by LDA\n",
    "\n",
    "    :param model: sklearn LDA model\n",
    "    :param feature_names: the feature names from the Vectorizer\n",
    "    :param n_top_words: number of most defining words of each topic\n",
    "    \"\"\"\n",
    "    for index, topic in enumerate(model.components_):\n",
    "        message = \"\\nTopic #{}:\".format(index)\n",
    "        message += \" \".join([feature_names[i] for i in topic.argsort()[:-n_top_words - 1 :-1]])\n",
    "        print(message)\n",
    "        print(\"=\"*70)\n",
    "\n",
    "lemm = WordNetLemmatizer()\n",
    "print(\"The lemmatized form of leaves is: {}\".format(lemm.lemmatize(\"leaves\")))\n",
    "\n",
    "\n",
    "n_top_words = 40\n",
    "print(\"\\nTopics in LDA model: \")\n",
    "tf_feature_names = tf_vectorizer.get_feature_names()\n",
    "print_top_words(lda, tf_feature_names, n_top_words)"
   ]
  },
  {
   "cell_type": "code",
   "execution_count": null,
   "metadata": {
    "cell_id": "00012-61eadf66-ee69-4673-98fa-e804f97c4df0",
    "deepnote_cell_type": "code",
    "id": "O2qmZRtDJU2P"
   },
   "outputs": [],
   "source": [
    "# Mutually exclusive words extracted from each topic\n",
    "topic0 = ['roy', 'session', 'alabama', 'official', 'special', 'chinese', 'washington', 'security', 'big', 'state', 'did', 'investigation', 'james', 'report', 'comey', 'obamacare', 'national', 'america', 'repeal', 'senator', 'moore', 'firing', 'poll', 'twitter']\n",
    "\n",
    "topic1 = ['attempt', 'bernie', 'black', 'blame', 'book', 'campaign', 'city', 'clinton', 'day', 'doe', 'election', 'far', 'food', 'gun', 'hillary', 'hit', 'make', 'military', 'obama', 'old', 'party', 'presidential', 'protester', 'rally', 'right', 'sander', 'texas', 'want', 'win', 'world']\n",
    "\n",
    "topic2 = ['drug', 'help', 'chief', 'vote', 'administration', 'test', 'prime', 'care', 'john', 'israel', 'cnn', 'north', 'face', 'video', 'american', 'threatens', 'minister', 'south', 'turkey', 'missile', 'mccain', 'nuclear', 'health', 'senate', 'leader', 'like', 'korea', 'korean', 'tax', 'call', 'nominee', 'ahead']\n",
    "\n",
    "topic3 = ['street', 'life', 'sexual', 'charlottesville', 'fox', 'killed', 'sign', 'history', 'case', 'shutdown', 'billion', 'federal', 'wall', 'paul', 'amid', 'manafort', 'uk', 'police', 'way', 'despite', 'end', 'program', 'people', 'leave', 'long', 'judge', 'saudi', 'warns', 'fear', 'attack', 'ryan', 'border', 'let', 'news', 'government']\n",
    "\n",
    "topic4 = ['wo', 'tweet', 'meet', 'jr', 'fbi', 'talk', 'republican', 'robert', 'democratic', 'school', 'ban', 'lawyer', 'michael', 'foreign', 'white', 'putin', 'court', 'charge', 'house', 'president', 'expert', 'dead', 'need', 'penny', 'going', 'probe', 'just', 'russia', 'rep', 'syria', 'political', 'mueller']\n",
    "\n",
    "topic5 = ['jones', 'rico', 'open', 'puerto', '10', 'kushner', 'healthcare', 'really', '000', 'shut', 'massive', 'saying', 'harvey', 'trade', 'funding', 'jared', 'disaster', 'porn', 'offer', 'kill', 'penguin', 'comment', 'restaurant', 'lead', 'banana', 'mexico', 'million', 'pay', 'anti', 'general', 'attorney', 'gov', 'china']\n"
   ]
  },
  {
   "cell_type": "code",
   "execution_count": null,
   "metadata": {
    "cell_id": "00013-2dde01ca-e07b-469a-a661-142b5cabbf30",
    "deepnote_cell_type": "code",
    "id": "5ko9XDspI4xZ"
   },
   "outputs": [],
   "source": [
    "def contains_word_in_set(x, word_set):\n",
    "    \"\"\"\n",
    "    set of words to see if x contains any of them\n",
    "    :param x: str\n",
    "    :param word_set: set of words to see if x contains any of them\n",
    "    :return: bool\n",
    "    \"\"\"\n",
    "    if any(elem in x for elem in word_set):\n",
    "        return 1\n",
    "    return 0\n",
    "\n",
    "\n",
    "def apply_topics(df):\n",
    "    \"\"\"\n",
    "    Extract a number of Topic features for experimentation as additional column(s)\n",
    "    :param df: pandas DataFrame\n",
    "    \"\"\"\n",
    "    df[\"topic_0\"] = df[\"edited\"].apply(lambda x: contains_word_in_set(x, topic0))\n",
    "\n",
    "    df[\"topic_1\"] = df[\"edited\"].apply(lambda x: contains_word_in_set(x, topic1))\n",
    "\n",
    "    df[\"topic_2\"] = df[\"edited\"].apply(lambda x: contains_word_in_set(x, topic2))\n",
    "    df[\"topic_3\"] = df[\"edited\"].apply(lambda x: contains_word_in_set(x, topic3))\n",
    "    df[\"topic_4\"] = df[\"edited\"].apply(lambda x: contains_word_in_set(x, topic4))\n",
    "    df[\"topic_5\"] = df[\"edited\"].apply(lambda x: contains_word_in_set(x, topic5))\n",
    "\n",
    "\n",
    "def apply_trump(df):\n",
    "    \"\"\"\n",
    "    Extract a feature to mark the mention of Trump in the edited sentence\n",
    "    :param df: pandas DataFrame\n",
    "    \"\"\"\n",
    "    df[\"trump\"] = df[\"edited\"].apply(\n",
    "        lambda x: contains_word_in_set(x, word_set=[\"trump\", \"Trump\", \"Donald\", \"donald\", \":trump\"])\n",
    "    )"
   ]
  },
  {
   "cell_type": "code",
   "execution_count": null,
   "metadata": {
    "cell_id": "00014-7ea8272e-c149-4c24-81a9-9a3826f59d58",
    "colab": {
     "base_uri": "https://localhost:8080/"
    },
    "deepnote_cell_type": "code",
    "id": "ypTIwncRJq2X",
    "outputId": "3c570f19-3756-4f49-f419-c5c668eeda98"
   },
   "outputs": [
    {
     "name": "stdout",
     "output_type": "stream",
     "text": [
      "33\n"
     ]
    }
   ],
   "source": [
    "apply(X, apply_trump)\n",
    "apply(X, apply_topics)\n",
    "print(len(train_h.columns))  # 33\n"
   ]
  },
  {
   "cell_type": "code",
   "execution_count": null,
   "metadata": {
    "cell_id": "00015-547d25c7-77bb-40ba-82b5-b8fb73967399",
    "colab": {
     "base_uri": "https://localhost:8080/"
    },
    "deepnote_cell_type": "code",
    "id": "Y1rUtT4AJyby",
    "outputId": "54dfb445-fd1c-49c1-e8ab-fe9336a9c08e"
   },
   "outputs": [
    {
     "name": "stdout",
     "output_type": "stream",
     "text": [
      "44\n"
     ]
    }
   ],
   "source": [
    "def tag_part_of_speech(df):\n",
    "    \"\"\"\n",
    "    Extract POS features of the originl sentence and also a POS feature specific to the original word\n",
    "    :param df: pandas DataFrame\n",
    "    \"\"\"\n",
    "    text = df.non_edited\n",
    "    old_word = df.old_word\n",
    "    text_splited = text.split(\" \")\n",
    "    text_splited = [\"\".join(c for c in s if c not in string.punctuation) for s in text_splited]\n",
    "    text_splited = [s for s in text_splited if s]\n",
    "    pos_list = pos_tag(text_splited)\n",
    "    for i in pos_list:\n",
    "        old_word_type = \"O\"\n",
    "        if i[0] == old_word:\n",
    "            if i[1] in (\"NN\", \"NNP\", \"NNPS\", \"NNS\"):\n",
    "                old_word_type = \"N\"\n",
    "            elif i[1] in (\"JJ\", \"JJR\", \"JJS\"):\n",
    "                old_word_type = \"J\"\n",
    "            elif i[1] in (\"VB\", \"VBD\", \"VBG\", \"VBN\", \"VBP\", \"VBZ\"):\n",
    "                old_word_type = \"V\"\n",
    "\n",
    "    noun_count = len([w for w in pos_list if w[1] in (\"NN\", \"NNP\", \"NNPS\", \"NNS\")])\n",
    "    adjective_count = len([w for w in pos_list if w[1] in (\"JJ\", \"JJR\", \"JJS\")])\n",
    "    verb_count = len([w for w in pos_list if w[1] in (\"VB\", \"VBD\", \"VBG\", \"VBN\", \"VBP\", \"VBZ\")])\n",
    "    return [noun_count, adjective_count, verb_count, old_word_type]\n",
    "\n",
    "\n",
    "def get_edit_word_pos(df):\n",
    "    \"\"\"\n",
    "    Extract POS features specific to the edit word\n",
    "    :param df: pandas DataFrame\n",
    "    \"\"\"\n",
    "    text = df.non_edited\n",
    "    old_word = df.old_word\n",
    "    edit = df.edit\n",
    "    text = text.replace(old_word, edit)\n",
    "    text_splited = text.split(\" \")\n",
    "    text_splited = [\"\".join(c for c in s if c not in string.punctuation) for s in text_splited]\n",
    "    text_splited = [s for s in text_splited if s]\n",
    "    pos_list = pos_tag(text_splited)\n",
    "    for i in pos_list:\n",
    "        edit_word_type = \"O\"\n",
    "        if i[0] == edit:\n",
    "            if i[1] in (\"NN\", \"NNP\", \"NNPS\", \"NNS\"):\n",
    "                edit_word_type = \"N\"\n",
    "            elif i[1] in (\"JJ\", \"JJR\", \"JJS\"):\n",
    "                edit_word_type = \"J\"\n",
    "            elif i[1] in (\"VB\", \"VBD\", \"VBG\", \"VBN\", \"VBP\", \"VBZ\"):\n",
    "                edit_word_type = \"V\"\n",
    "    return edit_word_type\n",
    "\n",
    "\n",
    "def pos_features(df):\n",
    "    \"\"\"\n",
    "    Extract further POS features\n",
    "    :param df: pandas DataFrame\n",
    "    \"\"\"\n",
    "\n",
    "    df[\"nouns\"], df[\"adjectives\"], df[\"verbs\"], df[\"old_word_pos\"] = zip(*df.apply(tag_part_of_speech, axis=1))\n",
    "    df[\"edit_word_pos\"] = df.apply(get_edit_word_pos, axis=1)\n",
    "\n",
    "    df[\"nouns_vs_length\"] = df[\"nouns\"] / df[\"length\"]\n",
    "    df[\"adjectives_vs_length\"] = df[\"adjectives\"] / df[\"length\"]\n",
    "    df[\"verbs_vs_length\"] = df[\"verbs\"] / df[\"length\"]\n",
    "    df[\"nouns_vs_words\"] = df[\"nouns\"] / df[\"num_words\"]\n",
    "    df[\"adjectives_vs_words\"] = df[\"adjectives\"] / df[\"num_words\"]\n",
    "    df[\"verbs_vs_words\"] = df[\"verbs\"] / df[\"num_words\"]\n",
    "\n",
    "\n",
    "apply(X, pos_features)\n",
    "print(len(train_h.columns))  # 44\n"
   ]
  },
  {
   "cell_type": "code",
   "execution_count": null,
   "metadata": {
    "cell_id": "00016-9070a3b1-6658-4f3c-86a9-a3e429279eb0",
    "colab": {
     "base_uri": "https://localhost:8080/"
    },
    "deepnote_cell_type": "code",
    "id": "2Nzpn7zKJ15S",
    "outputId": "be891862-25c0-402b-de49-f10d68f6996a"
   },
   "outputs": [
    {
     "data": {
      "text/plain": [
       "50"
      ]
     },
     "execution_count": 129,
     "metadata": {
      "tags": []
     },
     "output_type": "execute_result"
    }
   ],
   "source": [
    "def dummy_columns(df):\n",
    "    \"\"\"\n",
    "    Make Dummy Columns from the edit word POS tag and original word POS tag\n",
    "    :param df: pandas DataFrame\n",
    "    \"\"\"\n",
    "    edit = df[[\"edit_word_pos\"]]\n",
    "    dummy_cols_for_edit = pd.get_dummies(edit)\n",
    "    dummy_cols_for_edit.drop(columns=\"edit_word_pos_O\", axis=1, inplace=True)\n",
    "    df = pd.concat([df, dummy_cols_for_edit], axis=1)\n",
    "\n",
    "    edit = df[[\"old_word_pos\"]]\n",
    "    dummy_cols_for_edit = pd.get_dummies(edit)\n",
    "    dummy_cols_for_edit.drop(columns=\"old_word_pos_O\", axis=1, inplace=True)\n",
    "    df = pd.concat([df, dummy_cols_for_edit], axis=1)\n",
    "    return df\n",
    "\n",
    "\n",
    "train_h = dummy_columns(train_h)\n",
    "train_f = dummy_columns(train_f)\n",
    "dev_h = dummy_columns(dev_h)\n",
    "test_h = dummy_columns(test_h)\n",
    "X = [train_h, train_f, dev_h, test_h]\n",
    "len(train_h.columns)  # 50"
   ]
  },
  {
   "cell_type": "code",
   "execution_count": null,
   "metadata": {
    "cell_id": "00017-44e35845-fc86-440d-8903-f7a532cdbf41",
    "colab": {
     "base_uri": "https://localhost:8080/"
    },
    "deepnote_cell_type": "code",
    "id": "edHlV3NcKBFi",
    "outputId": "45fe202b-fc2e-44c7-ee5b-d9aac92b651a"
   },
   "outputs": [
    {
     "name": "stdout",
     "output_type": "stream",
     "text": [
      "60\n"
     ]
    }
   ],
   "source": [
    "def word_count_features(df, column=\"non_edited\"):\n",
    "    \"\"\"\n",
    "    Extract more lexical type features as additional column(s)\n",
    "    :param df: pandas DataFrame\n",
    "    :param column: str\n",
    "    \"\"\"\n",
    "\n",
    "    df[\"word_count\"] = [len(str(x).split(\" \")) for x in df[column]]\n",
    "    df[\"position\"] = df[\"context\"].apply(lambda x: len(str(x[0]).split(\" \")) + 1)\n",
    "    df[\"relative_position\"] = df[\"position\"] / df[\"word_count\"]\n",
    "\n",
    "\n",
    "def character_count(x):\n",
    "    \"\"\"\n",
    "    Extract the character count from a string, excluding some symbols\n",
    "    :param x: str\n",
    "    \"\"\"\n",
    "    chars = \"\".join(x.split())\n",
    "    nonchars = [\".\", \"!\", \"?\", \",\", \":\", \";\", \"-\", \"'\"]\n",
    "    return len([char for char in chars if char not in nonchars])\n",
    "\n",
    "\n",
    "def sentiment_features(df, column=\"non_edited\"):\n",
    "    \"\"\"\n",
    "    Extract textblob, vader sentiment and subjectivity faetures, as wwell as relative sentiment as additional columns\n",
    "    :param df: pandas DataFrame\n",
    "    :param column: str\n",
    "    \"\"\"\n",
    "\n",
    "    def capital_letter_count(x):\n",
    "        return sum(1 for c in x if c.isupper())\n",
    "\n",
    "    analyser = SentimentIntensityAnalyzer()\n",
    "    df[\"vader_sentiment\"] = [analyser.polarity_scores(i)[\"compound\"] for i in df[column]]\n",
    "\n",
    "    df[\"relative_sentiment\"] = [\n",
    "        analyser.polarity_scores(i[0])[\"compound\"] - (analyser.polarity_scores(i[1])[\"compound\"]) for i in df[\"context\"]\n",
    "    ]\n",
    "    character_c = df[\"original\"].apply(character_count)\n",
    "    df[\"av_word_length\"] = df[\"word_count\"] / character_c\n",
    "    capital_letter = train_h[\"original\"].apply(capital_letter_count)\n",
    "    df[\"capital_letter_per_word\"] = capital_letter / df[\"word_count\"]\n",
    "    df[\"relative_sentiment2\"] = (\n",
    "        analyser.polarity_scores(df[\"edit\"])[\"compound\"] - analyser.polarity_scores(df[\"old_word\"])[\"compound\"]\n",
    "    )\n",
    "\n",
    "    df[\"textblob_polarity\"] = [TextBlob(i).polarity for i in df[\"edited\"]]\n",
    "    df[\"textblob_subjectivity\"] = [TextBlob(i).polarity for i in df[\"edited\"]]\n",
    "\n",
    "\n",
    "apply(X, word_count_features)\n",
    "apply(X, sentiment_features)\n",
    "print(len(train_h.columns)) "
   ]
  },
  {
   "cell_type": "code",
   "execution_count": null,
   "metadata": {
    "cell_id": "00018-c561a38a-d947-4ecf-97a9-6ac21c85b2b7",
    "colab": {
     "base_uri": "https://localhost:8080/"
    },
    "deepnote_cell_type": "code",
    "id": "rrchSXeNKDgC",
    "outputId": "4a7fffa7-a508-4ef3-9d52-02b420db6359"
   },
   "outputs": [
    {
     "name": "stdout",
     "output_type": "stream",
     "text": [
      "61\n",
      "Index(['id', 'original', 'edit', 'grades', 'meanGrade', 'old_word', 'context',\n",
      "       'edited', 'non_edited', 'Levenshtein', 'JaroWinkler', 'LCSubsequence',\n",
      "       'length', 'capitals', 'caps_vs_length', 'num_exclamation_marks',\n",
      "       'num_question_marks', 'num_punctuation', 'num_symbols', 'num_words',\n",
      "       'num_unique_words', 'words_vs_unique', 'num_smilies',\n",
      "       'count_words_title', 'mean_word_len', 'punct_percent', 'trump',\n",
      "       'topic_0', 'topic_1', 'topic_2', 'topic_3', 'topic_4', 'topic_5',\n",
      "       'nouns', 'adjectives', 'verbs', 'old_word_pos', 'edit_word_pos',\n",
      "       'nouns_vs_length', 'adjectives_vs_length', 'verbs_vs_length',\n",
      "       'nouns_vs_words', 'adjectives_vs_words', 'verbs_vs_words',\n",
      "       'edit_word_pos_J', 'edit_word_pos_N', 'edit_word_pos_V',\n",
      "       'old_word_pos_J', 'old_word_pos_N', 'old_word_pos_V', 'word_count',\n",
      "       'position', 'relative_position', 'vader_sentiment',\n",
      "       'relative_sentiment', 'av_word_length', 'capital_letter_per_word',\n",
      "       'relative_sentiment2', 'textblob_polarity', 'textblob_subjectivity',\n",
      "       'tf_idf_predictions'],\n",
      "      dtype='object')\n"
     ]
    }
   ],
   "source": [
    "def tf_idf(train_df=train_h, test_df=dev_h):\n",
    "    \"\"\"\n",
    "    Build a TF-IDF Transformer, built on the LemmaCountVectorizer class, fit-transform on train_df, and transformed on test_df.\n",
    "    The features from this TF-IDF transfomer are used to build a Ridge Linear Regression Model, with the optimal\n",
    "    parameters from Grid Search.\n",
    "    Extract the predictions as additional columns\n",
    "    :param train_df: pandas DataFrame\n",
    "    :param test_df: str\n",
    "    \"\"\"\n",
    "    lemm = WordNetLemmatizer()\n",
    "\n",
    "    training_data = train_df[\"original\"]\n",
    "    test_data = test_df[\"original\"]\n",
    "    training_y = train_df[\"meanGrade\"]\n",
    "\n",
    "    # We train a Tf-idf model\n",
    "    count_vect = LemmaCountVectorizer(max_df=0.95, min_df=2, stop_words=\"english\", decode_error=\"ignore\")\n",
    "\n",
    "    train_counts = count_vect.fit_transform(training_data)\n",
    "    transformer = TfidfTransformer().fit(train_counts)\n",
    "    train_counts = transformer.transform(train_counts)\n",
    "    regression_model = linear_model.Ridge(alpha=15).fit(train_counts, training_y)\n",
    "\n",
    "    test_counts = count_vect.transform(test_data)\n",
    "\n",
    "    test_counts = transformer.transform(test_counts)\n",
    "\n",
    "    # Train predictions\n",
    "    predicted_train = regression_model.predict(train_counts)\n",
    "\n",
    "    predicted = regression_model.predict(test_counts)\n",
    "\n",
    "    train_df[\"tf_idf_predictions\"] = predicted_train\n",
    "    test_df[\"tf_idf_predictions\"] = predicted\n",
    "\n",
    "tf_idf(train_h, dev_h)\n",
    "print(len(train_h.columns))  # 61\n",
    "\n",
    "print(train_h.columns) # Features to choose from for hand-crafted final model"
   ]
  },
  {
   "cell_type": "code",
   "execution_count": null,
   "metadata": {
    "cell_id": "00019-a3a502b1-28f5-4995-8e84-0d1f27e8b221",
    "colab": {
     "base_uri": "https://localhost:8080/"
    },
    "deepnote_cell_type": "code",
    "id": "KWaQhB1MUezb",
    "outputId": "b33f0fbc-98a0-466e-862d-19895eeecb52"
   },
   "outputs": [
    {
     "name": "stdout",
     "output_type": "stream",
     "text": [
      "TF_IDF train Linear Regression with Tikinhov Regularization\n",
      "| MSE: 0.2944 | RMSE: 0.5426 |\n",
      "(2841.853525989582, 0.2944315712794855)\n",
      "\n",
      "\n",
      "| MSE: 0.3293 | RMSE: 0.5739 |\n",
      "TF_IDF_only dev (796.6159700155702, 0.32931623398742027)\n"
     ]
    }
   ],
   "source": [
    "print('TF_IDF train Linear Regression with Tikinhov Regularization')\n",
    "print(model_performance(train_h[\"tf_idf_predictions\"],train_h['meanGrade'],True))\n",
    "print('\\n')\n",
    "print('TF_IDF_only dev',model_performance(dev_h[\"tf_idf_predictions\"],dev_h['meanGrade'],True))\n"
   ]
  },
  {
   "cell_type": "code",
   "execution_count": null,
   "metadata": {
    "cell_id": "00020-93e9118b-5c7e-423a-88bb-06d3736f07fa",
    "deepnote_cell_type": "code",
    "id": "sk30cO3aKL5Y"
   },
   "outputs": [],
   "source": [
    "# final chosen features for gradient boosting\n",
    "features = ['Levenshtein', 'JaroWinkler',\n",
    "       'LCSubsequence', 'length', 'capitals', 'caps_vs_length',\n",
    "       'num_exclamation_marks', 'num_question_marks', 'num_punctuation',\n",
    "       'num_symbols', 'num_words', 'num_unique_words', 'words_vs_unique',\n",
    "       'num_smilies', 'count_words_title', 'mean_word_len', 'punct_percent',\n",
    "       'nouns', 'adjectives', 'verbs', \n",
    "       'nouns_vs_length', 'adjectives_vs_length', 'verbs_vs_length',\n",
    "       'nouns_vs_words', 'adjectives_vs_words', 'verbs_vs_words',\n",
    "       'edit_word_pos_J', 'edit_word_pos_N', 'edit_word_pos_V',\n",
    "       'old_word_pos_J', 'old_word_pos_N', 'old_word_pos_V', 'word_count',\n",
    "       'position', 'relative_position', 'vader_sentiment',\n",
    "       'relative_sentiment', 'av_word_length', 'capital_letter_per_word',\n",
    "       'relative_sentiment2', 'textblob_polarity', 'textblob_subjectivity','trump', 'topic_0', 'topic_1', 'topic_2', 'topic_3', 'topic_4',\n",
    "       'topic_5']\n",
    "\n"
   ]
  },
  {
   "cell_type": "code",
   "execution_count": null,
   "metadata": {
    "cell_id": "00021-e9b5e149-dcd1-4fda-a69b-d006cf54b62b",
    "deepnote_cell_type": "code",
    "id": "TzSPQn7oKsyp"
   },
   "outputs": [],
   "source": [
    "train_X = train_h[features]\n",
    "train_y = train_h['meanGrade']\n",
    "\n",
    "dev_X = dev_h[features]\n",
    "dev_Y = dev_h['meanGrade']\n",
    "target = train_y\n",
    "train = train_h\n",
    "test = dev_h"
   ]
  },
  {
   "cell_type": "code",
   "execution_count": null,
   "metadata": {
    "cell_id": "00022-c5178510-3a14-4eb4-9edc-fae66b0ed4d5",
    "deepnote_cell_type": "code",
    "id": "szLmt91PRSPM"
   },
   "outputs": [],
   "source": [
    "# Grid Search different Experiments\n",
    "# params = {\n",
    "#     \"num_leaves\": 31,\n",
    "#     \"min_data_in_leaf\": 30,\n",
    "#     \"objective\": \"regression\",\n",
    "#     \"max_depth\": -1,\n",
    "#     \"learning_rate\": 0.01,\n",
    "#     \"min_child_samples\": 20,\n",
    "#     \"boosting\": \"gbdt\",\n",
    "#     \"feature_fraction\": 0.9,\n",
    "#     \"bagging_freq\": 1,\n",
    "#     \"bagging_fraction\": 0.9,\n",
    "#     \"bagging_seed\": 11,\n",
    "#     \"metric\": \"rmse\",\n",
    "#     \"lambda_l1\": 0.1,\n",
    "#     \"verbosity\": -1,\n",
    "#     \"nthread\": 4,\n",
    "#     \"random_state\": 4590,\n",
    "# }\n",
    "\n",
    "# # Create parameters to search\n",
    "# gridParams = {\n",
    "#     'learning_rate': [0.01,0.005],\n",
    "#     'n_estimators': [40],\n",
    "#     'num_leaves': [6,8,12,16],\n",
    "#     'boosting_type' : ['gbdt'],\n",
    "#     'random_state' : [501], # Updated from 'seed'\n",
    "#     'colsample_bytree' : [0.65, 0.66],\n",
    "#     'subsample' : [0.7,0.75],\n",
    "#     'reg_alpha' : [1,1.2],\n",
    "#     'reg_lambda' : [1,1.2,1.4],\n",
    "#     }\n",
    "\n",
    "\n",
    "\n",
    "# # Create classifier to use. Note that parameters have to be input manually\n",
    "# # not as a dict!\n",
    "# mdl = lgb.LGBMRegressor(**params)\n",
    "\n",
    "# # To view the default model params:\n",
    "# mdl.get_params().keys()\n",
    "\n",
    "# # Create the grid\n",
    "# grid = GridSearchCV(mdl, gridParams,\n",
    "#                     verbose=0,\n",
    "#                     cv=4,\n",
    "#                     n_jobs=2)\n",
    "# # # Run the grid\n",
    "# grid.fit(train[features], target)\n",
    "\n",
    "# # # Print the best parameters found\n",
    "# print(grid.best_params_)\n",
    "# print(grid.best_score_)"
   ]
  },
  {
   "cell_type": "code",
   "execution_count": null,
   "metadata": {
    "cell_id": "00023-2f96ec82-2cfb-4e3a-ba68-8cbf4ca61b8a",
    "deepnote_cell_type": "code",
    "id": "6QnZYLg-PNDe"
   },
   "outputs": [],
   "source": [
    "# Best Parameters from GridSearch\n",
    "param = {\n",
    "    \"num_leaves\": 31,\n",
    "    \"min_data_in_leaf\": 30,\n",
    "    \"objective\": \"regression\",\n",
    "    \"max_depth\": -1,\n",
    "    \"learning_rate\": 0.01,\n",
    "    \"min_child_samples\": 20,\n",
    "    \"boosting\": \"gbdt\",\n",
    "    \"feature_fraction\": 0.9,\n",
    "    \"bagging_freq\": 1,\n",
    "    \"bagging_fraction\": 0.9,\n",
    "    \"bagging_seed\": 11,\n",
    "    \"metric\": \"rmse\",\n",
    "    \"lambda_l1\": 0.1,\n",
    "    \"verbosity\": -1,\n",
    "    \"nthread\": 4,\n",
    "    \"random_state\": 4590,\n",
    "}\n"
   ]
  },
  {
   "cell_type": "code",
   "execution_count": null,
   "metadata": {
    "cell_id": "00024-28258c35-1f62-48e3-93e1-a7cb630efe75",
    "deepnote_cell_type": "code",
    "id": "wThQRPLEKWVA"
   },
   "outputs": [],
   "source": [
    "def light_gbm(train, target, test, features, param=param):\n",
    "    \"\"\"\n",
    "    Build a Light Gradient Boosting Model (Similar to XGboost), running 5 folds of Cross-validation\n",
    "    with Early Stopping. Extract the predictions as additional columns\n",
    "    :param train: pandas DataFrame\n",
    "    :param test_df: str\n",
    "    \"\"\"\n",
    "\n",
    "    folds = KFold(n_splits=5, shuffle=True, random_state=4590)\n",
    "    oof = np.zeros(len(train))\n",
    "    predictions = np.zeros(len(test))\n",
    "    predictions_train = np.zeros(len(train))\n",
    "    feature_importance_df = pd.DataFrame()\n",
    "\n",
    "    for fold_, (trn_idx, val_idx) in enumerate(folds.split(train)):\n",
    "        print(\"fold {}\".format(fold_))\n",
    "        trn_data = lgb.Dataset(\n",
    "            train.iloc[trn_idx][features], label=target.iloc[trn_idx]\n",
    "        )  # , categorical_feature=categorical_feats)\n",
    "        val_data = lgb.Dataset(\n",
    "            train.iloc[val_idx][features], label=target.iloc[val_idx]\n",
    "        )  # ,categorical_feature=categorical_feats)\n",
    "\n",
    "        num_round = 10000\n",
    "        clf = lgb.train(\n",
    "            param, trn_data, num_round, valid_sets=[trn_data, val_data], verbose_eval=100, early_stopping_rounds=200\n",
    "        )\n",
    "        oof[val_idx] = clf.predict(train.iloc[val_idx][features], num_iteration=clf.best_iteration)\n",
    "\n",
    "        fold_importance_df = pd.DataFrame()\n",
    "        fold_importance_df[\"Feature\"] = features\n",
    "        fold_importance_df[\"Importance\"] = clf.feature_importance()\n",
    "        fold_importance_df[\"fold\"] = fold_ + 1\n",
    "        feature_importance_df = pd.concat([feature_importance_df, fold_importance_df], axis=0)\n",
    "\n",
    "        predictions += clf.predict(test[features], num_iteration=clf.best_iteration) / folds.n_splits\n",
    "        predictions_train += clf.predict(train[features], num_iteration=clf.best_iteration) / folds.n_splits\n",
    "\n",
    "    np.sqrt(MSE(oof, target))\n",
    "\n",
    "    rmse = np.sqrt(MSE(test[\"meanGrade\"], predictions))\n",
    "    print(\"training RMSE\", np.sqrt(MSE(train[\"meanGrade\"], predictions_train)))\n",
    "    print(\"testing RMSE\", rmse)\n",
    "    return predictions, predictions_train, feature_importance_df\n",
    "\n",
    "\n",
    "def feature_importance_graph(feature_importance_df):\n",
    "    \"\"\"\n",
    "    Producing a graph from the Cross-validation gradient boosting algorithm,\n",
    "    showing how often each feature was used in the boosted decision trees,\n",
    "    with variance bars. There are no absolute units due to the way the algorithm works\n",
    "    but it gives strong indication of the most useful features for the model, across folds/\n",
    "\n",
    "    :param feature_importance_df: pandas DataFrame\n",
    "    :return: matplotlib plot\n",
    "    \"\"\"\n",
    "\n",
    "    cols = (\n",
    "        feature_importance_df[[\"Feature\", \"Importance\"]]\n",
    "        .groupby(\"Feature\")\n",
    "        .mean()\n",
    "        .sort_values(by=\"Importance\", ascending=False)[:1000]\n",
    "        .index\n",
    "    )\n",
    "\n",
    "    best_features = feature_importance_df.loc[feature_importance_df.Feature.isin(cols)]\n",
    "\n",
    "    plt.figure(figsize=(14, 25))\n",
    "    ax = sns.barplot(y=\"Importance\", x=\"Feature\", data=best_features.sort_values(by=\"Importance\", ascending=False), )\n",
    "    ax.set_xticklabels(ax.get_xticklabels(), rotation=90, ha=\"right\")\n",
    "    l = ax.get_xlabel()\n",
    "    g = ax.get_ylabel()\n",
    "    ax.set_xlabel(l, fontsize=20)\n",
    "    ax.set_ylabel(g, fontsize=20)\n",
    "    plt.title(\"LightGBM Features (avg over folds)\")\n",
    "    plt.tight_layout()\n",
    "    return plt\n"
   ]
  },
  {
   "cell_type": "code",
   "execution_count": null,
   "metadata": {
    "cell_id": "00025-a2d85cab-939e-4e7e-b3a7-a8d6be535054",
    "colab": {
     "base_uri": "https://localhost:8080/"
    },
    "deepnote_cell_type": "code",
    "id": "X6iSvi-pLLho",
    "outputId": "ceac7fdb-53d0-49de-a818-42e3221f430c"
   },
   "outputs": [
    {
     "name": "stdout",
     "output_type": "stream",
     "text": [
      "fold 0\n",
      "Training until validation scores don't improve for 200 rounds.\n",
      "[100]\ttraining's rmse: 0.557528\tvalid_1's rmse: 0.577452\n",
      "[200]\ttraining's rmse: 0.541168\tvalid_1's rmse: 0.576385\n",
      "[300]\ttraining's rmse: 0.527183\tvalid_1's rmse: 0.575644\n",
      "[400]\ttraining's rmse: 0.514972\tvalid_1's rmse: 0.574666\n",
      "[500]\ttraining's rmse: 0.503898\tvalid_1's rmse: 0.574068\n",
      "[600]\ttraining's rmse: 0.493738\tvalid_1's rmse: 0.573685\n",
      "[700]\ttraining's rmse: 0.483992\tvalid_1's rmse: 0.573254\n",
      "[800]\ttraining's rmse: 0.474759\tvalid_1's rmse: 0.573132\n",
      "[900]\ttraining's rmse: 0.466197\tvalid_1's rmse: 0.573119\n",
      "[1000]\ttraining's rmse: 0.457891\tvalid_1's rmse: 0.573233\n",
      "[1100]\ttraining's rmse: 0.44991\tvalid_1's rmse: 0.573748\n",
      "Early stopping, best iteration is:\n",
      "[918]\ttraining's rmse: 0.464675\tvalid_1's rmse: 0.573066\n",
      "fold 1\n",
      "Training until validation scores don't improve for 200 rounds.\n",
      "[100]\ttraining's rmse: 0.56034\tvalid_1's rmse: 0.567097\n",
      "[200]\ttraining's rmse: 0.544424\tvalid_1's rmse: 0.563384\n",
      "[300]\ttraining's rmse: 0.530735\tvalid_1's rmse: 0.562251\n",
      "[400]\ttraining's rmse: 0.518449\tvalid_1's rmse: 0.561435\n",
      "[500]\ttraining's rmse: 0.506966\tvalid_1's rmse: 0.561467\n",
      "[600]\ttraining's rmse: 0.49641\tvalid_1's rmse: 0.561214\n",
      "[700]\ttraining's rmse: 0.486256\tvalid_1's rmse: 0.560751\n",
      "[800]\ttraining's rmse: 0.476714\tvalid_1's rmse: 0.560584\n",
      "[900]\ttraining's rmse: 0.468099\tvalid_1's rmse: 0.560763\n",
      "[1000]\ttraining's rmse: 0.459601\tvalid_1's rmse: 0.561063\n",
      "Early stopping, best iteration is:\n",
      "[826]\ttraining's rmse: 0.47442\tvalid_1's rmse: 0.560475\n",
      "fold 2\n",
      "Training until validation scores don't improve for 200 rounds.\n",
      "[100]\ttraining's rmse: 0.557899\tvalid_1's rmse: 0.578944\n",
      "[200]\ttraining's rmse: 0.541588\tvalid_1's rmse: 0.576777\n",
      "[300]\ttraining's rmse: 0.528012\tvalid_1's rmse: 0.575459\n",
      "[400]\ttraining's rmse: 0.515838\tvalid_1's rmse: 0.574411\n",
      "[500]\ttraining's rmse: 0.504449\tvalid_1's rmse: 0.57389\n",
      "[600]\ttraining's rmse: 0.494115\tvalid_1's rmse: 0.573865\n",
      "[700]\ttraining's rmse: 0.484345\tvalid_1's rmse: 0.573565\n",
      "[800]\ttraining's rmse: 0.475136\tvalid_1's rmse: 0.57353\n",
      "[900]\ttraining's rmse: 0.466336\tvalid_1's rmse: 0.573591\n",
      "Early stopping, best iteration is:\n",
      "[746]\ttraining's rmse: 0.480095\tvalid_1's rmse: 0.573418\n",
      "fold 3\n",
      "Training until validation scores don't improve for 200 rounds.\n",
      "[100]\ttraining's rmse: 0.558002\tvalid_1's rmse: 0.574886\n",
      "[200]\ttraining's rmse: 0.541202\tvalid_1's rmse: 0.574862\n",
      "[300]\ttraining's rmse: 0.526937\tvalid_1's rmse: 0.575342\n",
      "Early stopping, best iteration is:\n",
      "[148]\ttraining's rmse: 0.549433\tvalid_1's rmse: 0.5747\n",
      "fold 4\n",
      "Training until validation scores don't improve for 200 rounds.\n",
      "[100]\ttraining's rmse: 0.556915\tvalid_1's rmse: 0.578895\n",
      "[200]\ttraining's rmse: 0.540409\tvalid_1's rmse: 0.577534\n",
      "[300]\ttraining's rmse: 0.526226\tvalid_1's rmse: 0.577651\n",
      "[400]\ttraining's rmse: 0.513959\tvalid_1's rmse: 0.57777\n",
      "Early stopping, best iteration is:\n",
      "[225]\ttraining's rmse: 0.536674\tvalid_1's rmse: 0.577352\n",
      "training RMSE 0.5122869202023869\n",
      "testing RMSE 0.5744072978614618\n"
     ]
    }
   ],
   "source": [
    "# Performing Cross Validation on train Humiocrit only, testing on the dev set\n",
    "\n",
    "predictions, predictions_train, feature_importance_df = light_gbm(train_h, train_h['meanGrade'], dev_h, features)\n"
   ]
  },
  {
   "cell_type": "code",
   "execution_count": null,
   "metadata": {
    "cell_id": "00026-402f3fa8-097c-4038-961a-d99c56c67efe",
    "colab": {
     "base_uri": "https://localhost:8080/"
    },
    "deepnote_cell_type": "code",
    "id": "q_ZLdkQJVV-x",
    "outputId": "cea1cd99-c6c8-4702-b84f-9f5823f36fb4"
   },
   "outputs": [
    {
     "name": "stdout",
     "output_type": "stream",
     "text": [
      "Gradient Boosting Hand Crafted dev set performance\n",
      "| MSE: 0.3299 | RMSE: 0.5744 |\n",
      "(798.1339163405084, 0.3299437438365056)\n"
     ]
    }
   ],
   "source": [
    "print('Gradient Boosting Hand Crafted dev set performance')\n",
    "print(model_performance(predictions,dev_h['meanGrade'],True))\n"
   ]
  },
  {
   "cell_type": "code",
   "execution_count": null,
   "metadata": {
    "cell_id": "00027-7316e8c8-83c1-485c-a798-17c10878a8c8",
    "colab": {
     "base_uri": "https://localhost:8080/",
     "height": 1000
    },
    "deepnote_cell_type": "code",
    "id": "XpUwry5vMITu",
    "outputId": "115e08fd-3e2f-4b85-dd55-b413828d3da8"
   },
   "outputs": [
    {
     "data": {
      "image/png": "[encoded data removed]",
      "text/plain": [
       "<Figure size 1008x1800 with 1 Axes>"
      ]
     },
     "metadata": {
      "needs_background": "light",
      "tags": []
     },
     "output_type": "display_data"
    }
   ],
   "source": [
    "plt = feature_importance_graph(feature_importance_df)"
   ]
  },
  {
   "cell_type": "code",
   "execution_count": null,
   "metadata": {
    "cell_id": "00028-1525c30b-7072-4f90-891a-6e62ec17f58f",
    "deepnote_cell_type": "code",
    "id": "rjOPwJsZb9eq"
   },
   "outputs": [],
   "source": [
    "cols = (\n",
    "    feature_importance_df[[\"Feature\", \"Importance\"]]\n",
    "    .groupby(\"Feature\")\n",
    "    .mean()\n",
    "    .sort_values(by=\"Importance\", ascending=False)[:1000]\n",
    "    .index\n",
    ")\n",
    "\n",
    "best_features = feature_importance_df.loc[feature_importance_df.Feature.isin(cols)]"
   ]
  },
  {
   "cell_type": "code",
   "execution_count": null,
   "metadata": {
    "cell_id": "00029-b0d835e1-208d-4ac1-9eeb-191cd131c6ee",
    "deepnote_cell_type": "code",
    "id": "MrZSF-XJce2E"
   },
   "outputs": [],
   "source": [
    "remove_for_report = ['topic_1',\n",
    "       'topic_0', 'topic_2', 'topic_3', 'adjectives', 'topic_5',\n",
    "       'edit_word_pos_N', 'num_question_marks', 'old_word_pos_N',\n",
    "       'num_symbols', 'old_word_pos_V', 'edit_word_pos_V',\n",
    "       'num_exclamation_marks', 'relative_sentiment2', 'num_smilies',\n",
    "       'old_word_pos_J', 'edit_word_pos_J']"
   ]
  },
  {
   "cell_type": "code",
   "execution_count": null,
   "metadata": {
    "cell_id": "00030-9b1b70bf-9061-45a1-8ba2-d31f3260a4e9",
    "deepnote_cell_type": "code",
    "id": "v3QUbIFLcAB_"
   },
   "outputs": [],
   "source": [
    "report = feature_importance_df[~feature_importance_df['Feature'].isin(remove_for_report)]"
   ]
  },
  {
   "cell_type": "code",
   "execution_count": null,
   "metadata": {
    "cell_id": "00031-99ae6c57-a880-4084-858e-0ce474a31323",
    "colab": {
     "base_uri": "https://localhost:8080/",
     "height": 1000
    },
    "deepnote_cell_type": "code",
    "id": "S7zOiMQybi6k",
    "outputId": "3107c2bc-72ff-4e41-e013-bb18be211cb5"
   },
   "outputs": [
    {
     "data": {
      "image/png": "[encoded data removed]",
      "text/plain": [
       "<Figure size 1008x1800 with 1 Axes>"
      ]
     },
     "metadata": {
      "needs_background": "light",
      "tags": []
     },
     "output_type": "display_data"
    }
   ],
   "source": [
    "plt = feature_importance_graph(report)\n"
   ]
  },
  {
   "cell_type": "code",
   "execution_count": null,
   "metadata": {
    "cell_id": "00032-3139575d-3ebd-4a4c-8df5-11e2ef1a0324",
    "colab": {
     "base_uri": "https://localhost:8080/"
    },
    "deepnote_cell_type": "code",
    "id": "QS2a6XbUVTjv",
    "outputId": "5c5da8f8-3cc0-46bf-f6a1-198ad9d3437d"
   },
   "outputs": [
    {
     "name": "stdout",
     "output_type": "stream",
     "text": [
      "fold 0\n",
      "Training until validation scores don't improve for 200 rounds.\n",
      "[100]\ttraining's rmse: 0.558957\tvalid_1's rmse: 0.567439\n",
      "[200]\ttraining's rmse: 0.545466\tvalid_1's rmse: 0.561078\n",
      "[300]\ttraining's rmse: 0.536361\tvalid_1's rmse: 0.559703\n",
      "[400]\ttraining's rmse: 0.528468\tvalid_1's rmse: 0.559353\n",
      "[500]\ttraining's rmse: 0.521162\tvalid_1's rmse: 0.559238\n",
      "[600]\ttraining's rmse: 0.514097\tvalid_1's rmse: 0.559198\n",
      "Early stopping, best iteration is:\n",
      "[450]\ttraining's rmse: 0.524709\tvalid_1's rmse: 0.559114\n",
      "fold 1\n",
      "Training until validation scores don't improve for 200 rounds.\n",
      "[100]\ttraining's rmse: 0.558127\tvalid_1's rmse: 0.571827\n",
      "[200]\ttraining's rmse: 0.54446\tvalid_1's rmse: 0.565985\n",
      "[300]\ttraining's rmse: 0.535419\tvalid_1's rmse: 0.56442\n",
      "[400]\ttraining's rmse: 0.527498\tvalid_1's rmse: 0.563939\n",
      "[500]\ttraining's rmse: 0.520143\tvalid_1's rmse: 0.563615\n",
      "[600]\ttraining's rmse: 0.513405\tvalid_1's rmse: 0.563357\n",
      "[700]\ttraining's rmse: 0.507007\tvalid_1's rmse: 0.563295\n",
      "[800]\ttraining's rmse: 0.500873\tvalid_1's rmse: 0.563135\n",
      "[900]\ttraining's rmse: 0.495133\tvalid_1's rmse: 0.563262\n",
      "Early stopping, best iteration is:\n",
      "[769]\ttraining's rmse: 0.502755\tvalid_1's rmse: 0.563095\n",
      "fold 2\n",
      "Training until validation scores don't improve for 200 rounds.\n",
      "[100]\ttraining's rmse: 0.558489\tvalid_1's rmse: 0.570393\n",
      "[200]\ttraining's rmse: 0.545285\tvalid_1's rmse: 0.564653\n",
      "[300]\ttraining's rmse: 0.53651\tvalid_1's rmse: 0.563241\n",
      "[400]\ttraining's rmse: 0.528495\tvalid_1's rmse: 0.562507\n",
      "[500]\ttraining's rmse: 0.521005\tvalid_1's rmse: 0.56235\n",
      "[600]\ttraining's rmse: 0.514309\tvalid_1's rmse: 0.562151\n",
      "[700]\ttraining's rmse: 0.507789\tvalid_1's rmse: 0.562001\n",
      "[800]\ttraining's rmse: 0.501734\tvalid_1's rmse: 0.561886\n",
      "[900]\ttraining's rmse: 0.495753\tvalid_1's rmse: 0.561634\n",
      "[1000]\ttraining's rmse: 0.489957\tvalid_1's rmse: 0.561584\n",
      "[1100]\ttraining's rmse: 0.484492\tvalid_1's rmse: 0.561653\n",
      "[1200]\ttraining's rmse: 0.479153\tvalid_1's rmse: 0.561802\n",
      "Early stopping, best iteration is:\n",
      "[1019]\ttraining's rmse: 0.488894\tvalid_1's rmse: 0.561525\n",
      "fold 3\n",
      "Training until validation scores don't improve for 200 rounds.\n",
      "[100]\ttraining's rmse: 0.557579\tvalid_1's rmse: 0.572141\n",
      "[200]\ttraining's rmse: 0.543851\tvalid_1's rmse: 0.568286\n",
      "[300]\ttraining's rmse: 0.534863\tvalid_1's rmse: 0.567713\n",
      "[400]\ttraining's rmse: 0.527038\tvalid_1's rmse: 0.567662\n",
      "[500]\ttraining's rmse: 0.519814\tvalid_1's rmse: 0.567749\n",
      "Early stopping, best iteration is:\n",
      "[375]\ttraining's rmse: 0.528986\tvalid_1's rmse: 0.567585\n",
      "fold 4\n",
      "Training until validation scores don't improve for 200 rounds.\n",
      "[100]\ttraining's rmse: 0.56039\tvalid_1's rmse: 0.559582\n",
      "[200]\ttraining's rmse: 0.546698\tvalid_1's rmse: 0.555748\n",
      "[300]\ttraining's rmse: 0.537727\tvalid_1's rmse: 0.555146\n",
      "[400]\ttraining's rmse: 0.529776\tvalid_1's rmse: 0.555101\n",
      "[500]\ttraining's rmse: 0.522481\tvalid_1's rmse: 0.555035\n",
      "[600]\ttraining's rmse: 0.515657\tvalid_1's rmse: 0.554913\n",
      "[700]\ttraining's rmse: 0.509291\tvalid_1's rmse: 0.55499\n",
      "[800]\ttraining's rmse: 0.503082\tvalid_1's rmse: 0.555234\n",
      "Early stopping, best iteration is:\n",
      "[608]\ttraining's rmse: 0.515133\tvalid_1's rmse: 0.554892\n",
      "training RMSE 0.5205845369031573\n",
      "testing RMSE 0.6606328220539739\n"
     ]
    }
   ],
   "source": [
    "# On additional data funlines\n",
    "train = pd.concat([train_h,train_f])\n",
    "test = test_h\n",
    "target = train['meanGrade']\n",
    "predictions, predictions_train, feature_importance_df = light_gbm(train, target, test, features)\n"
   ]
  },
  {
   "cell_type": "code",
   "execution_count": null,
   "metadata": {
    "cell_id": "00033-87c09b25-7e2d-4dbb-b3dd-4ae83bb3a925",
    "deepnote_cell_type": "code",
    "id": "yeDWsEytVTGX"
   },
   "outputs": [],
   "source": [
    "## Final Results: Trained on Train+Dev. Tested on Competition Test Set"
   ]
  },
  {
   "cell_type": "code",
   "execution_count": null,
   "metadata": {
    "cell_id": "00034-b6b19711-c817-4ed1-9548-1e509e132cf7",
    "deepnote_cell_type": "code",
    "id": "j6_xzAuWLebu"
   },
   "outputs": [],
   "source": [
    "# Now on Entire training and Dev, and the competitions Test!\n",
    "train = pd.concat([train_h,dev_h])\n",
    "test = test_h\n",
    "target = train['meanGrade']"
   ]
  },
  {
   "cell_type": "code",
   "execution_count": null,
   "metadata": {
    "cell_id": "00035-6df37966-e0d6-4842-93db-fd086d31b57a",
    "colab": {
     "base_uri": "https://localhost:8080/"
    },
    "deepnote_cell_type": "code",
    "id": "mwM47WZkLWNz",
    "outputId": "c7e2dd79-4936-4f5d-e5e5-921637887282"
   },
   "outputs": [
    {
     "name": "stdout",
     "output_type": "stream",
     "text": [
      "fold 0\n",
      "Training until validation scores don't improve for 200 rounds.\n",
      "[100]\ttraining's rmse: 0.560571\tvalid_1's rmse: 0.575691\n",
      "[200]\ttraining's rmse: 0.546447\tvalid_1's rmse: 0.574229\n",
      "[300]\ttraining's rmse: 0.534505\tvalid_1's rmse: 0.574008\n",
      "[400]\ttraining's rmse: 0.523884\tvalid_1's rmse: 0.573641\n",
      "[500]\ttraining's rmse: 0.514187\tvalid_1's rmse: 0.573369\n",
      "[600]\ttraining's rmse: 0.505019\tvalid_1's rmse: 0.573512\n",
      "[700]\ttraining's rmse: 0.496351\tvalid_1's rmse: 0.573959\n",
      "Early stopping, best iteration is:\n",
      "[500]\ttraining's rmse: 0.514187\tvalid_1's rmse: 0.573369\n",
      "fold 1\n",
      "Training until validation scores don't improve for 200 rounds.\n",
      "[100]\ttraining's rmse: 0.561358\tvalid_1's rmse: 0.573578\n",
      "[200]\ttraining's rmse: 0.547383\tvalid_1's rmse: 0.570853\n",
      "[300]\ttraining's rmse: 0.535423\tvalid_1's rmse: 0.569639\n",
      "[400]\ttraining's rmse: 0.524894\tvalid_1's rmse: 0.568688\n",
      "[500]\ttraining's rmse: 0.515125\tvalid_1's rmse: 0.568052\n",
      "[600]\ttraining's rmse: 0.505971\tvalid_1's rmse: 0.567337\n",
      "[700]\ttraining's rmse: 0.497419\tvalid_1's rmse: 0.566837\n",
      "[800]\ttraining's rmse: 0.489269\tvalid_1's rmse: 0.566469\n",
      "[900]\ttraining's rmse: 0.481308\tvalid_1's rmse: 0.566503\n",
      "[1000]\ttraining's rmse: 0.473818\tvalid_1's rmse: 0.566518\n",
      "Early stopping, best iteration is:\n",
      "[839]\ttraining's rmse: 0.486088\tvalid_1's rmse: 0.566418\n",
      "fold 2\n",
      "Training until validation scores don't improve for 200 rounds.\n",
      "[100]\ttraining's rmse: 0.562561\tvalid_1's rmse: 0.567779\n",
      "[200]\ttraining's rmse: 0.548479\tvalid_1's rmse: 0.565673\n",
      "[300]\ttraining's rmse: 0.53635\tvalid_1's rmse: 0.564965\n",
      "[400]\ttraining's rmse: 0.526016\tvalid_1's rmse: 0.564603\n",
      "[500]\ttraining's rmse: 0.516524\tvalid_1's rmse: 0.564566\n",
      "[600]\ttraining's rmse: 0.507633\tvalid_1's rmse: 0.564517\n",
      "[700]\ttraining's rmse: 0.499152\tvalid_1's rmse: 0.564365\n",
      "[800]\ttraining's rmse: 0.49103\tvalid_1's rmse: 0.56442\n",
      "[900]\ttraining's rmse: 0.483427\tvalid_1's rmse: 0.564627\n",
      "Early stopping, best iteration is:\n",
      "[713]\ttraining's rmse: 0.498104\tvalid_1's rmse: 0.564312\n",
      "fold 3\n",
      "Training until validation scores don't improve for 200 rounds.\n",
      "[100]\ttraining's rmse: 0.560735\tvalid_1's rmse: 0.577315\n",
      "[200]\ttraining's rmse: 0.546825\tvalid_1's rmse: 0.575999\n",
      "[300]\ttraining's rmse: 0.534984\tvalid_1's rmse: 0.575096\n",
      "[400]\ttraining's rmse: 0.524379\tvalid_1's rmse: 0.574365\n",
      "[500]\ttraining's rmse: 0.515047\tvalid_1's rmse: 0.573835\n",
      "[600]\ttraining's rmse: 0.505967\tvalid_1's rmse: 0.573615\n",
      "[700]\ttraining's rmse: 0.497497\tvalid_1's rmse: 0.573579\n",
      "[800]\ttraining's rmse: 0.489392\tvalid_1's rmse: 0.573312\n",
      "[900]\ttraining's rmse: 0.48168\tvalid_1's rmse: 0.573523\n",
      "[1000]\ttraining's rmse: 0.474359\tvalid_1's rmse: 0.573306\n",
      "[1100]\ttraining's rmse: 0.467364\tvalid_1's rmse: 0.573356\n",
      "Early stopping, best iteration is:\n",
      "[998]\ttraining's rmse: 0.474489\tvalid_1's rmse: 0.573301\n",
      "fold 4\n",
      "Training until validation scores don't improve for 200 rounds.\n",
      "[100]\ttraining's rmse: 0.559241\tvalid_1's rmse: 0.579129\n",
      "[200]\ttraining's rmse: 0.54511\tvalid_1's rmse: 0.577879\n",
      "[300]\ttraining's rmse: 0.533336\tvalid_1's rmse: 0.577454\n",
      "[400]\ttraining's rmse: 0.523067\tvalid_1's rmse: 0.577184\n",
      "[500]\ttraining's rmse: 0.513652\tvalid_1's rmse: 0.577115\n",
      "[600]\ttraining's rmse: 0.504764\tvalid_1's rmse: 0.577122\n",
      "[700]\ttraining's rmse: 0.496219\tvalid_1's rmse: 0.576733\n",
      "[800]\ttraining's rmse: 0.488234\tvalid_1's rmse: 0.576831\n",
      "[900]\ttraining's rmse: 0.480515\tvalid_1's rmse: 0.57633\n",
      "[1000]\ttraining's rmse: 0.472995\tvalid_1's rmse: 0.576294\n",
      "[1100]\ttraining's rmse: 0.465712\tvalid_1's rmse: 0.576223\n",
      "[1200]\ttraining's rmse: 0.459007\tvalid_1's rmse: 0.576192\n",
      "[1300]\ttraining's rmse: 0.452483\tvalid_1's rmse: 0.57658\n",
      "Early stopping, best iteration is:\n",
      "[1112]\ttraining's rmse: 0.464921\tvalid_1's rmse: 0.576151\n",
      "training RMSE 0.5017850406116972\n",
      "testing RMSE 0.5699342138779214\n"
     ]
    }
   ],
   "source": [
    "predictions, predictions_train, feature_importance_df = light_gbm(train, target, test, features)\n"
   ]
  },
  {
   "cell_type": "code",
   "execution_count": null,
   "metadata": {
    "cell_id": "00036-bb5b2ce9-79ff-4124-a7b3-64dd54030b45",
    "colab": {
     "base_uri": "https://localhost:8080/"
    },
    "deepnote_cell_type": "code",
    "id": "IlNp2RWHV78g",
    "outputId": "31af8bd1-15fb-4bd3-ec70-9a08f93c8745"
   },
   "outputs": [
    {
     "name": "stdout",
     "output_type": "stream",
     "text": [
      "Gradient Boosting Hand Crafted Test Set performance\n",
      "| MSE: 0.3248 | RMSE: 0.5699 |\n",
      "(982.2708246415002, 0.32482500814864446)\n"
     ]
    }
   ],
   "source": [
    "print('Gradient Boosting Hand Crafted Test Set performance')\n",
    "print(model_performance(predictions,test['meanGrade'],True))\n"
   ]
  },
  {
   "cell_type": "code",
   "execution_count": null,
   "metadata": {
    "cell_id": "00037-c3f8fc41-2564-42be-8582-468b823651fc",
    "deepnote_cell_type": "code",
    "id": "q4wup9mIMOX1"
   },
   "outputs": [],
   "source": []
  },
  {
   "cell_type": "code",
   "execution_count": null,
   "metadata": {
    "cell_id": "00038-227318eb-59c2-42bd-a926-5fd15fb468c0",
    "deepnote_cell_type": "code",
    "id": "3T-SIZ40SzWI"
   },
   "outputs": [],
   "source": []
  },
  {
   "cell_type": "markdown",
   "metadata": {
    "created_in_deepnote_cell": true,
    "deepnote_cell_type": "markdown",
    "tags": []
   },
   "source": [
    "<a style='text-decoration:none;line-height:16px;display:flex;color:#5B5B62;padding:10px;justify-content:end;' href='https://deepnote.com?utm_source=created-in-deepnote-cell&projectId=cd0ae3bf-8b9c-46ca-9eb4-5ef4b3522174' target=\"_blank\">\n",
    "<img style='display:inline;max-height:16px;margin:0px;margin-right:7.5px;' src='data:image/svg+xml;base64,PD94bWwgdmVyc2lvbj0iMS4wIiBlbmNvZGluZz0iVVRGLTgiPz4KPHN2ZyB3aWR0aD0iODBweCIgaGVpZ2h0PSI4MHB4IiB2aWV3Qm94PSIwIDAgODAgODAiIHZlcnNpb249IjEuMSIgeG1sbnM9Imh0dHA6Ly93d3cudzMub3JnLzIwMDAvc3ZnIiB4bWxuczp4bGluaz0iaHR0cDovL3d3dy53My5vcmcvMTk5OS94bGluayI+CiAgICA8IS0tIEdlbmVyYXRvcjogU2tldGNoIDU0LjEgKDc2NDkwKSAtIGh0dHBzOi8vc2tldGNoYXBwLmNvbSAtLT4KICAgIDx0aXRsZT5Hcm91cCAzPC90aXRsZT4KICAgIDxkZXNjPkNyZWF0ZWQgd2l0aCBTa2V0Y2guPC9kZXNjPgogICAgPGcgaWQ9IkxhbmRpbmciIHN0cm9rZT0ibm9uZSIgc3Ryb2tlLXdpZHRoPSIxIiBmaWxsPSJub25lIiBmaWxsLXJ1bGU9ImV2ZW5vZGQiPgogICAgICAgIDxnIGlkPSJBcnRib2FyZCIgdHJhbnNmb3JtPSJ0cmFuc2xhdGUoLTEyMzUuMDAwMDAwLCAtNzkuMDAwMDAwKSI+CiAgICAgICAgICAgIDxnIGlkPSJHcm91cC0zIiB0cmFuc2Zvcm09InRyYW5zbGF0ZSgxMjM1LjAwMDAwMCwgNzkuMDAwMDAwKSI+CiAgICAgICAgICAgICAgICA8cG9seWdvbiBpZD0iUGF0aC0yMCIgZmlsbD0iIzAyNjVCNCIgcG9pbnRzPSIyLjM3NjIzNzYyIDgwIDM4LjA0NzY2NjcgODAgNTcuODIxNzgyMiA3My44MDU3NTkyIDU3LjgyMTc4MjIgMzIuNzU5MjczOSAzOS4xNDAyMjc4IDMxLjY4MzE2ODMiPjwvcG9seWdvbj4KICAgICAgICAgICAgICAgIDxwYXRoIGQ9Ik0zNS4wMDc3MTgsODAgQzQyLjkwNjIwMDcsNzYuNDU0OTM1OCA0Ny41NjQ5MTY3LDcxLjU0MjI2NzEgNDguOTgzODY2LDY1LjI2MTk5MzkgQzUxLjExMjI4OTksNTUuODQxNTg0MiA0MS42NzcxNzk1LDQ5LjIxMjIyODQgMjUuNjIzOTg0Niw0OS4yMTIyMjg0IEMyNS40ODQ5Mjg5LDQ5LjEyNjg0NDggMjkuODI2MTI5Niw0My4yODM4MjQ4IDM4LjY0NzU4NjksMzEuNjgzMTY4MyBMNzIuODcxMjg3MSwzMi41NTQ0MjUgTDY1LjI4MDk3Myw2Ny42NzYzNDIxIEw1MS4xMTIyODk5LDc3LjM3NjE0NCBMMzUuMDA3NzE4LDgwIFoiIGlkPSJQYXRoLTIyIiBmaWxsPSIjMDAyODY4Ij48L3BhdGg+CiAgICAgICAgICAgICAgICA8cGF0aCBkPSJNMCwzNy43MzA0NDA1IEwyNy4xMTQ1MzcsMC4yNTcxMTE0MzYgQzYyLjM3MTUxMjMsLTEuOTkwNzE3MDEgODAsMTAuNTAwMzkyNyA4MCwzNy43MzA0NDA1IEM4MCw2NC45NjA0ODgyIDY0Ljc3NjUwMzgsNzkuMDUwMzQxNCAzNC4zMjk1MTEzLDgwIEM0Ny4wNTUzNDg5LDc3LjU2NzA4MDggNTMuNDE4MjY3Nyw3MC4zMTM2MTAzIDUzLjQxODI2NzcsNTguMjM5NTg4NSBDNTMuNDE4MjY3Nyw0MC4xMjg1NTU3IDM2LjMwMzk1NDQsMzcuNzMwNDQwNSAyNS4yMjc0MTcsMzcuNzMwNDQwNSBDMTcuODQzMDU4NiwzNy43MzA0NDA1IDkuNDMzOTE5NjYsMzcuNzMwNDQwNSAwLDM3LjczMDQ0MDUgWiIgaWQ9IlBhdGgtMTkiIGZpbGw9IiMzNzkzRUYiPjwvcGF0aD4KICAgICAgICAgICAgPC9nPgogICAgICAgIDwvZz4KICAgIDwvZz4KPC9zdmc+' > </img>\n",
    "Created in <span style='font-weight:600;margin-left:4px;'>Deepnote</span></a>"
   ]
  }
 ],
 "metadata": {
  "colab": {
   "collapsed_sections": [],
   "name": "Untitled38.ipynb",
   "provenance": []
  },
  "deepnote": {},
  "deepnote_execution_queue": [],
  "deepnote_notebook_id": "4d7130f9-1a34-4b97-a518-801b5bee91b8",
  "kernelspec": {
   "display_name": "Python 3",
   "language": "python",
   "name": "python3"
  },
  "language_info": {
   "codemirror_mode": {
    "name": "ipython",
    "version": 3
   },
   "file_extension": ".py",
   "mimetype": "text/x-python",
   "name": "python",
   "nbconvert_exporter": "python",
   "pygments_lexer": "ipython3",
   "version": "3.7.7"
  }
 },
 "nbformat": 4,
 "nbformat_minor": 4
}
