{
 "cells": [
  {
   "cell_type": "code",
   "execution_count": null,
   "metadata": {
    "id": "E3JhFkvje9SK"
   },
   "outputs": [],
   "source": []
  },
  {
   "cell_type": "code",
   "execution_count": 10,
   "metadata": {
    "colab": {
     "base_uri": "https://localhost:8080/"
    },
    "id": "igEDOspIHGtH",
    "outputId": "09da1492-ebb2-4cf4-eb61-766c857dc5bb"
   },
   "outputs": [
    {
     "name": "stdout",
     "output_type": "stream",
     "text": [
      "Mounted at /content/drive\n",
      "/content/drive/MyDrive\n"
     ]
    }
   ],
   "source": [
    "from google.colab import drive\n",
    "drive.mount('/content/drive')\n",
    "%cd /content/drive/MyDrive/"
   ]
  },
  {
   "cell_type": "code",
   "execution_count": 2,
   "metadata": {
    "id": "lCjg2AtEHMN4"
   },
   "outputs": [],
   "source": [
    "# Imports\n",
    "\n",
    "import torch\n",
    "import torch.nn as nn\n",
    "import pandas as pd\n",
    "import numpy as np\n",
    "from sklearn.feature_extraction.text import CountVectorizer\n",
    "from torch.utils.data import Dataset, random_split\n",
    "from sklearn.feature_extraction.text import TfidfTransformer\n",
    "from sklearn.model_selection import train_test_split\n",
    "from sklearn.linear_model import LinearRegression\n",
    "import codecs"
   ]
  },
  {
   "cell_type": "code",
   "execution_count": 12,
   "metadata": {
    "id": "xhpNarFsHNgu"
   },
   "outputs": [],
   "source": [
    "# Setting random seed and device\n",
    "SEED = 1\n",
    "\n",
    "torch.manual_seed(SEED)\n",
    "torch.cuda.manual_seed(SEED)\n",
    "torch.backends.cudnn.deterministic = True\n",
    "\n",
    "use_cuda = torch.cuda.is_available()\n",
    "device = torch.device(\"cuda:0\" if use_cuda else \"cpu\")"
   ]
  },
  {
   "cell_type": "markdown",
   "metadata": {
    "id": "N3_iY620Hjfm"
   },
   "source": [
    "# TASK 1"
   ]
  },
  {
   "cell_type": "code",
   "execution_count": 14,
   "metadata": {
    "id": "vktYO8beHVfH"
   },
   "outputs": [],
   "source": [
    "# Load data\n",
    "train_df = pd.read_csv('data/task-1/train.csv')\n",
    "test_df = pd.read_csv('data/task-1/dev.csv')"
   ]
  },
  {
   "cell_type": "code",
   "execution_count": 15,
   "metadata": {
    "colab": {
     "base_uri": "https://localhost:8080/"
    },
    "id": "pGjtgNVfHmye",
    "outputId": "afe7776d-93f2-4826-c8b2-d32cb274dbbe"
   },
   "outputs": [
    {
     "name": "stdout",
     "output_type": "stream",
     "text": [
      "<class 'pandas.core.frame.DataFrame'>\n",
      "RangeIndex: 9652 entries, 0 to 9651\n",
      "Data columns (total 5 columns):\n",
      " #   Column     Non-Null Count  Dtype  \n",
      "---  ------     --------------  -----  \n",
      " 0   id         9652 non-null   int64  \n",
      " 1   original   9652 non-null   object \n",
      " 2   edit       9652 non-null   object \n",
      " 3   grades     9652 non-null   int64  \n",
      " 4   meanGrade  9652 non-null   float64\n",
      "dtypes: float64(1), int64(2), object(2)\n",
      "memory usage: 377.2+ KB\n"
     ]
    }
   ],
   "source": [
    "train_df.info()"
   ]
  },
  {
   "cell_type": "code",
   "execution_count": 16,
   "metadata": {
    "colab": {
     "base_uri": "https://localhost:8080/"
    },
    "id": "ubg4tds1HpFm",
    "outputId": "a61f93b8-9f26-4582-a0a2-1fd8f15db528"
   },
   "outputs": [
    {
     "name": "stdout",
     "output_type": "stream",
     "text": [
      "<class 'pandas.core.frame.DataFrame'>\n",
      "RangeIndex: 2419 entries, 0 to 2418\n",
      "Data columns (total 3 columns):\n",
      " #   Column    Non-Null Count  Dtype \n",
      "---  ------    --------------  ----- \n",
      " 0   id        2419 non-null   int64 \n",
      " 1   original  2419 non-null   object\n",
      " 2   edit      2419 non-null   object\n",
      "dtypes: int64(1), object(2)\n",
      "memory usage: 56.8+ KB\n"
     ]
    }
   ],
   "source": [
    "test_df.info()"
   ]
  },
  {
   "cell_type": "code",
   "execution_count": 17,
   "metadata": {
    "colab": {
     "base_uri": "https://localhost:8080/",
     "height": 36
    },
    "id": "gYjZ4uVfHXJI",
    "outputId": "216ea5f4-bb3f-40fc-c2c2-d963becdd813"
   },
   "outputs": [
    {
     "data": {
      "application/vnd.google.colaboratory.intrinsic+json": {
       "type": "string"
      },
      "text/plain": [
       "'France is ‘ hunting down its citizens who joined <Isis/> ’ without trial in Iraq'"
      ]
     },
     "execution_count": 17,
     "metadata": {
      "tags": []
     },
     "output_type": "execute_result"
    }
   ],
   "source": [
    "train_df['original'][0]"
   ]
  },
  {
   "cell_type": "code",
   "execution_count": 18,
   "metadata": {
    "colab": {
     "base_uri": "https://localhost:8080/",
     "height": 206
    },
    "id": "aqoAgwZcH4vO",
    "outputId": "53d0f386-4f0b-4185-b91c-d770058280b4"
   },
   "outputs": [
    {
     "data": {
      "text/html": [
       "<div>\n",
       "<style scoped>\n",
       "    .dataframe tbody tr th:only-of-type {\n",
       "        vertical-align: middle;\n",
       "    }\n",
       "\n",
       "    .dataframe tbody tr th {\n",
       "        vertical-align: top;\n",
       "    }\n",
       "\n",
       "    .dataframe thead th {\n",
       "        text-align: right;\n",
       "    }\n",
       "</style>\n",
       "<table border=\"1\" class=\"dataframe\">\n",
       "  <thead>\n",
       "    <tr style=\"text-align: right;\">\n",
       "      <th></th>\n",
       "      <th>id</th>\n",
       "      <th>original</th>\n",
       "      <th>edit</th>\n",
       "      <th>grades</th>\n",
       "      <th>meanGrade</th>\n",
       "    </tr>\n",
       "  </thead>\n",
       "  <tbody>\n",
       "    <tr>\n",
       "      <th>0</th>\n",
       "      <td>14530</td>\n",
       "      <td>France is ‘ hunting down its citizens who join...</td>\n",
       "      <td>twins</td>\n",
       "      <td>10000</td>\n",
       "      <td>0.2</td>\n",
       "    </tr>\n",
       "    <tr>\n",
       "      <th>1</th>\n",
       "      <td>13034</td>\n",
       "      <td>Pentagon claims 2,000 % increase in Russian tr...</td>\n",
       "      <td>bowling</td>\n",
       "      <td>33110</td>\n",
       "      <td>1.6</td>\n",
       "    </tr>\n",
       "    <tr>\n",
       "      <th>2</th>\n",
       "      <td>8731</td>\n",
       "      <td>Iceland PM Calls Snap Vote as Pedophile Furor ...</td>\n",
       "      <td>party</td>\n",
       "      <td>22100</td>\n",
       "      <td>1.0</td>\n",
       "    </tr>\n",
       "    <tr>\n",
       "      <th>3</th>\n",
       "      <td>76</td>\n",
       "      <td>In an apparent first , Iran and Israel &lt;engage...</td>\n",
       "      <td>slap</td>\n",
       "      <td>20000</td>\n",
       "      <td>0.4</td>\n",
       "    </tr>\n",
       "    <tr>\n",
       "      <th>4</th>\n",
       "      <td>6164</td>\n",
       "      <td>Trump was told weeks ago that Flynn misled &lt;Vi...</td>\n",
       "      <td>school</td>\n",
       "      <td>0</td>\n",
       "      <td>0.0</td>\n",
       "    </tr>\n",
       "  </tbody>\n",
       "</table>\n",
       "</div>"
      ],
      "text/plain": [
       "      id                                           original  ... grades  meanGrade\n",
       "0  14530  France is ‘ hunting down its citizens who join...  ...  10000        0.2\n",
       "1  13034  Pentagon claims 2,000 % increase in Russian tr...  ...  33110        1.6\n",
       "2   8731  Iceland PM Calls Snap Vote as Pedophile Furor ...  ...  22100        1.0\n",
       "3     76  In an apparent first , Iran and Israel <engage...  ...  20000        0.4\n",
       "4   6164  Trump was told weeks ago that Flynn misled <Vi...  ...      0        0.0\n",
       "\n",
       "[5 rows x 5 columns]"
      ]
     },
     "execution_count": 18,
     "metadata": {
      "tags": []
     },
     "output_type": "execute_result"
    }
   ],
   "source": [
    "train_df.head()"
   ]
  },
  {
   "cell_type": "code",
   "execution_count": 19,
   "metadata": {
    "colab": {
     "base_uri": "https://localhost:8080/",
     "height": 424
    },
    "id": "vaBCQt3DHYPd",
    "outputId": "f26f5353-9534-4283-b516-9af7f3ba2e32"
   },
   "outputs": [
    {
     "data": {
      "text/html": [
       "<div>\n",
       "<style scoped>\n",
       "    .dataframe tbody tr th:only-of-type {\n",
       "        vertical-align: middle;\n",
       "    }\n",
       "\n",
       "    .dataframe tbody tr th {\n",
       "        vertical-align: top;\n",
       "    }\n",
       "\n",
       "    .dataframe thead th {\n",
       "        text-align: right;\n",
       "    }\n",
       "</style>\n",
       "<table border=\"1\" class=\"dataframe\">\n",
       "  <thead>\n",
       "    <tr style=\"text-align: right;\">\n",
       "      <th></th>\n",
       "      <th>original</th>\n",
       "      <th>edit</th>\n",
       "    </tr>\n",
       "  </thead>\n",
       "  <tbody>\n",
       "    <tr>\n",
       "      <th>6075</th>\n",
       "      <td>Recent Scandals Highlight Trump 's Chaotic &lt;Ma...</td>\n",
       "      <td>Fashion</td>\n",
       "    </tr>\n",
       "    <tr>\n",
       "      <th>1490</th>\n",
       "      <td>President Trump 's first year &lt;anniversary/&gt; r...</td>\n",
       "      <td>Kindergarten</td>\n",
       "    </tr>\n",
       "    <tr>\n",
       "      <th>4438</th>\n",
       "      <td>How an FBI raid fed a rumor that Orrin Hatch w...</td>\n",
       "      <td>pregnant</td>\n",
       "    </tr>\n",
       "    <tr>\n",
       "      <th>8726</th>\n",
       "      <td>Trump admits tariffs could cause ' pain ' in &lt;...</td>\n",
       "      <td>buttock</td>\n",
       "    </tr>\n",
       "    <tr>\n",
       "      <th>6946</th>\n",
       "      <td>Kasich : Trump &lt;tweets/&gt; ‘ unacceptable ’</td>\n",
       "      <td>hair</td>\n",
       "    </tr>\n",
       "    <tr>\n",
       "      <th>...</th>\n",
       "      <td>...</td>\n",
       "      <td>...</td>\n",
       "    </tr>\n",
       "    <tr>\n",
       "      <th>9250</th>\n",
       "      <td>It did n’t end at the ballot box : &lt;Donald Tru...</td>\n",
       "      <td>cutlery</td>\n",
       "    </tr>\n",
       "    <tr>\n",
       "      <th>1237</th>\n",
       "      <td>Delhi Police Say They 've Captured Most-Wanted...</td>\n",
       "      <td>Hindu</td>\n",
       "    </tr>\n",
       "    <tr>\n",
       "      <th>9253</th>\n",
       "      <td>Trump 's Climate-Denying Coal Lobbyist Nominee...</td>\n",
       "      <td>Mine</td>\n",
       "    </tr>\n",
       "    <tr>\n",
       "      <th>4421</th>\n",
       "      <td>Democratic division simmers at feel-good &lt;retr...</td>\n",
       "      <td>stove</td>\n",
       "    </tr>\n",
       "    <tr>\n",
       "      <th>2885</th>\n",
       "      <td>U.S. Politics Are Rigged . It 's Time For a Sm...</td>\n",
       "      <td>Petition</td>\n",
       "    </tr>\n",
       "  </tbody>\n",
       "</table>\n",
       "<p>9652 rows × 2 columns</p>\n",
       "</div>"
      ],
      "text/plain": [
       "                                               original          edit\n",
       "6075  Recent Scandals Highlight Trump 's Chaotic <Ma...       Fashion\n",
       "1490  President Trump 's first year <anniversary/> r...  Kindergarten\n",
       "4438  How an FBI raid fed a rumor that Orrin Hatch w...      pregnant\n",
       "8726  Trump admits tariffs could cause ' pain ' in <...       buttock\n",
       "6946          Kasich : Trump <tweets/> ‘ unacceptable ’          hair\n",
       "...                                                 ...           ...\n",
       "9250  It did n’t end at the ballot box : <Donald Tru...       cutlery\n",
       "1237  Delhi Police Say They 've Captured Most-Wanted...         Hindu\n",
       "9253  Trump 's Climate-Denying Coal Lobbyist Nominee...          Mine\n",
       "4421  Democratic division simmers at feel-good <retr...         stove\n",
       "2885  U.S. Politics Are Rigged . It 's Time For a Sm...      Petition\n",
       "\n",
       "[9652 rows x 2 columns]"
      ]
     },
     "execution_count": 19,
     "metadata": {
      "tags": []
     },
     "output_type": "execute_result"
    }
   ],
   "source": [
    "train_df.sort_values('meanGrade',ascending=False)[['original','edit']]"
   ]
  },
  {
   "cell_type": "markdown",
   "metadata": {
    "id": "yp-FADWdljf0"
   },
   "source": [
    "# TASK 2"
   ]
  },
  {
   "cell_type": "code",
   "execution_count": 3,
   "metadata": {},
   "outputs": [],
   "source": [
    "# Load data\n",
    "train_df = pd.read_csv('data/task-2/train.csv')\n",
    "test_df = pd.read_csv('data/task-2/dev.csv')"
   ]
  },
  {
   "cell_type": "code",
   "execution_count": 6,
   "metadata": {},
   "outputs": [
    {
     "name": "stdout",
     "output_type": "stream",
     "text": [
      "<class 'pandas.core.frame.DataFrame'>\n",
      "RangeIndex: 9381 entries, 0 to 9380\n",
      "Data columns (total 10 columns):\n",
      " #   Column      Non-Null Count  Dtype  \n",
      "---  ------      --------------  -----  \n",
      " 0   id          9381 non-null   object \n",
      " 1   original1   9381 non-null   object \n",
      " 2   edit1       9381 non-null   object \n",
      " 3   grades1     9381 non-null   int64  \n",
      " 4   meanGrade1  9381 non-null   float64\n",
      " 5   original2   9381 non-null   object \n",
      " 6   edit2       9381 non-null   object \n",
      " 7   grades2     9381 non-null   int64  \n",
      " 8   meanGrade2  9381 non-null   float64\n",
      " 9   label       9381 non-null   int64  \n",
      "dtypes: float64(2), int64(3), object(5)\n",
      "memory usage: 733.0+ KB\n"
     ]
    }
   ],
   "source": [
    "train_df.info()"
   ]
  },
  {
   "cell_type": "code",
   "execution_count": 8,
   "metadata": {},
   "outputs": [
    {
     "data": {
      "text/html": [
       "<div>\n",
       "<style scoped>\n",
       "    .dataframe tbody tr th:only-of-type {\n",
       "        vertical-align: middle;\n",
       "    }\n",
       "\n",
       "    .dataframe tbody tr th {\n",
       "        vertical-align: top;\n",
       "    }\n",
       "\n",
       "    .dataframe thead th {\n",
       "        text-align: right;\n",
       "    }\n",
       "</style>\n",
       "<table border=\"1\" class=\"dataframe\">\n",
       "  <thead>\n",
       "    <tr style=\"text-align: right;\">\n",
       "      <th></th>\n",
       "      <th>id</th>\n",
       "      <th>original1</th>\n",
       "      <th>edit1</th>\n",
       "      <th>grades1</th>\n",
       "      <th>meanGrade1</th>\n",
       "      <th>original2</th>\n",
       "      <th>edit2</th>\n",
       "      <th>grades2</th>\n",
       "      <th>meanGrade2</th>\n",
       "      <th>label</th>\n",
       "    </tr>\n",
       "  </thead>\n",
       "  <tbody>\n",
       "    <tr>\n",
       "      <th>0</th>\n",
       "      <td>10920-9866</td>\n",
       "      <td>\" Gene Cernan , Last &lt;Astronaut/&gt; on the Moon ...</td>\n",
       "      <td>Dancer</td>\n",
       "      <td>1113</td>\n",
       "      <td>1.2</td>\n",
       "      <td>\" Gene Cernan , Last Astronaut on the Moon , &lt;...</td>\n",
       "      <td>impregnated</td>\n",
       "      <td>30001</td>\n",
       "      <td>0.8</td>\n",
       "      <td>1</td>\n",
       "    </tr>\n",
       "    <tr>\n",
       "      <th>1</th>\n",
       "      <td>3176-10722</td>\n",
       "      <td>\" I 'm done \" : Fed up with California , some ...</td>\n",
       "      <td>vagrants</td>\n",
       "      <td>1200</td>\n",
       "      <td>0.6</td>\n",
       "      <td>\" I 'm done \" : Fed up with &lt;California/&gt; , so...</td>\n",
       "      <td>pancakes</td>\n",
       "      <td>10110</td>\n",
       "      <td>0.6</td>\n",
       "      <td>0</td>\n",
       "    </tr>\n",
       "    <tr>\n",
       "      <th>2</th>\n",
       "      <td>3176-3702</td>\n",
       "      <td>\" I 'm done \" : Fed up with California , some ...</td>\n",
       "      <td>vagrants</td>\n",
       "      <td>1200</td>\n",
       "      <td>0.6</td>\n",
       "      <td>\" I 'm done \" : Fed up with &lt;California/&gt; , so...</td>\n",
       "      <td>life</td>\n",
       "      <td>2</td>\n",
       "      <td>0.4</td>\n",
       "      <td>1</td>\n",
       "    </tr>\n",
       "    <tr>\n",
       "      <th>3</th>\n",
       "      <td>10722-3702</td>\n",
       "      <td>\" I 'm done \" : Fed up with &lt;California/&gt; , so...</td>\n",
       "      <td>pancakes</td>\n",
       "      <td>10110</td>\n",
       "      <td>0.6</td>\n",
       "      <td>\" I 'm done \" : Fed up with &lt;California/&gt; , so...</td>\n",
       "      <td>life</td>\n",
       "      <td>2</td>\n",
       "      <td>0.4</td>\n",
       "      <td>1</td>\n",
       "    </tr>\n",
       "    <tr>\n",
       "      <th>4</th>\n",
       "      <td>12282-2083</td>\n",
       "      <td>\" Our expectations of what civic engagement lo...</td>\n",
       "      <td>imagine</td>\n",
       "      <td>0</td>\n",
       "      <td>0.0</td>\n",
       "      <td>\" Our expectations of what civic engagement &lt;l...</td>\n",
       "      <td>smells</td>\n",
       "      <td>100220010</td>\n",
       "      <td>0.6</td>\n",
       "      <td>2</td>\n",
       "    </tr>\n",
       "    <tr>\n",
       "      <th>...</th>\n",
       "      <td>...</td>\n",
       "      <td>...</td>\n",
       "      <td>...</td>\n",
       "      <td>...</td>\n",
       "      <td>...</td>\n",
       "      <td>...</td>\n",
       "      <td>...</td>\n",
       "      <td>...</td>\n",
       "      <td>...</td>\n",
       "      <td>...</td>\n",
       "    </tr>\n",
       "    <tr>\n",
       "      <th>9376</th>\n",
       "      <td>975-13357</td>\n",
       "      <td>“ It ’s painfully obvious \" Mueller will charg...</td>\n",
       "      <td>battery</td>\n",
       "      <td>1</td>\n",
       "      <td>0.2</td>\n",
       "      <td>“ It ’s painfully obvious \" Mueller will charg...</td>\n",
       "      <td>plumbing</td>\n",
       "      <td>11103</td>\n",
       "      <td>1.2</td>\n",
       "      <td>2</td>\n",
       "    </tr>\n",
       "    <tr>\n",
       "      <th>9377</th>\n",
       "      <td>975-11773</td>\n",
       "      <td>“ It ’s painfully obvious \" Mueller will charg...</td>\n",
       "      <td>battery</td>\n",
       "      <td>1</td>\n",
       "      <td>0.2</td>\n",
       "      <td>“ It ’s painfully obvious \" Mueller will &lt;char...</td>\n",
       "      <td>strangle</td>\n",
       "      <td>22331</td>\n",
       "      <td>2.2</td>\n",
       "      <td>2</td>\n",
       "    </tr>\n",
       "    <tr>\n",
       "      <th>9378</th>\n",
       "      <td>13357-11773</td>\n",
       "      <td>“ It ’s painfully obvious \" Mueller will charg...</td>\n",
       "      <td>plumbing</td>\n",
       "      <td>11103</td>\n",
       "      <td>1.2</td>\n",
       "      <td>“ It ’s painfully obvious \" Mueller will &lt;char...</td>\n",
       "      <td>strangle</td>\n",
       "      <td>22331</td>\n",
       "      <td>2.2</td>\n",
       "      <td>2</td>\n",
       "    </tr>\n",
       "    <tr>\n",
       "      <th>9379</th>\n",
       "      <td>14954-14479</td>\n",
       "      <td>“ Kompromat , ” media ethics and the law : Wha...</td>\n",
       "      <td>porn</td>\n",
       "      <td>20101</td>\n",
       "      <td>0.8</td>\n",
       "      <td>“ Kompromat , ” media ethics and the law : Wha...</td>\n",
       "      <td>dance</td>\n",
       "      <td>32112</td>\n",
       "      <td>1.8</td>\n",
       "      <td>2</td>\n",
       "    </tr>\n",
       "    <tr>\n",
       "      <th>9380</th>\n",
       "      <td>6354-12970</td>\n",
       "      <td>“ Son of a bitch ” : Trump ’s NFL &lt;outburst/&gt; ...</td>\n",
       "      <td>tantrum</td>\n",
       "      <td>3111130000</td>\n",
       "      <td>1.0</td>\n",
       "      <td>“ Son of a &lt;bitch/&gt; ” : Trump ’s NFL outburst ...</td>\n",
       "      <td>father</td>\n",
       "      <td>10000</td>\n",
       "      <td>0.2</td>\n",
       "      <td>1</td>\n",
       "    </tr>\n",
       "  </tbody>\n",
       "</table>\n",
       "<p>9381 rows × 10 columns</p>\n",
       "</div>"
      ],
      "text/plain": [
       "               id                                          original1  \\\n",
       "0      10920-9866  \" Gene Cernan , Last <Astronaut/> on the Moon ...   \n",
       "1      3176-10722  \" I 'm done \" : Fed up with California , some ...   \n",
       "2       3176-3702  \" I 'm done \" : Fed up with California , some ...   \n",
       "3      10722-3702  \" I 'm done \" : Fed up with <California/> , so...   \n",
       "4      12282-2083  \" Our expectations of what civic engagement lo...   \n",
       "...           ...                                                ...   \n",
       "9376    975-13357  “ It ’s painfully obvious \" Mueller will charg...   \n",
       "9377    975-11773  “ It ’s painfully obvious \" Mueller will charg...   \n",
       "9378  13357-11773  “ It ’s painfully obvious \" Mueller will charg...   \n",
       "9379  14954-14479  “ Kompromat , ” media ethics and the law : Wha...   \n",
       "9380   6354-12970  “ Son of a bitch ” : Trump ’s NFL <outburst/> ...   \n",
       "\n",
       "         edit1     grades1  meanGrade1  \\\n",
       "0       Dancer        1113         1.2   \n",
       "1     vagrants        1200         0.6   \n",
       "2     vagrants        1200         0.6   \n",
       "3     pancakes       10110         0.6   \n",
       "4      imagine           0         0.0   \n",
       "...        ...         ...         ...   \n",
       "9376   battery           1         0.2   \n",
       "9377   battery           1         0.2   \n",
       "9378  plumbing       11103         1.2   \n",
       "9379      porn       20101         0.8   \n",
       "9380   tantrum  3111130000         1.0   \n",
       "\n",
       "                                              original2        edit2  \\\n",
       "0     \" Gene Cernan , Last Astronaut on the Moon , <...  impregnated   \n",
       "1     \" I 'm done \" : Fed up with <California/> , so...     pancakes   \n",
       "2     \" I 'm done \" : Fed up with <California/> , so...         life   \n",
       "3     \" I 'm done \" : Fed up with <California/> , so...         life   \n",
       "4     \" Our expectations of what civic engagement <l...       smells   \n",
       "...                                                 ...          ...   \n",
       "9376  “ It ’s painfully obvious \" Mueller will charg...     plumbing   \n",
       "9377  “ It ’s painfully obvious \" Mueller will <char...     strangle   \n",
       "9378  “ It ’s painfully obvious \" Mueller will <char...     strangle   \n",
       "9379  “ Kompromat , ” media ethics and the law : Wha...        dance   \n",
       "9380  “ Son of a <bitch/> ” : Trump ’s NFL outburst ...       father   \n",
       "\n",
       "        grades2  meanGrade2  label  \n",
       "0         30001         0.8      1  \n",
       "1         10110         0.6      0  \n",
       "2             2         0.4      1  \n",
       "3             2         0.4      1  \n",
       "4     100220010         0.6      2  \n",
       "...         ...         ...    ...  \n",
       "9376      11103         1.2      2  \n",
       "9377      22331         2.2      2  \n",
       "9378      22331         2.2      2  \n",
       "9379      32112         1.8      2  \n",
       "9380      10000         0.2      1  \n",
       "\n",
       "[9381 rows x 10 columns]"
      ]
     },
     "execution_count": 8,
     "metadata": {},
     "output_type": "execute_result"
    }
   ],
   "source": [
    "train_df"
   ]
  },
  {
   "cell_type": "code",
   "execution_count": 22,
   "metadata": {},
   "outputs": [],
   "source": [
    "funniest = train_df.sort_values('meanGrade1',ascending=False)[['original1','edit1','meanGrade1','edit2']]"
   ]
  },
  {
   "cell_type": "code",
   "execution_count": 25,
   "metadata": {},
   "outputs": [
    {
     "name": "stdout",
     "output_type": "stream",
     "text": [
      "\" Gene Cernan , Last <Astronaut/> on the Moon , Dies at 82 \" Dancer  vs  impregnated\n",
      "\" I 'm done \" : Fed up with California , some <conservatives/> look to Texas vagrants  vs  pancakes\n",
      "\" I 'm done \" : Fed up with California , some <conservatives/> look to Texas vagrants  vs  life\n",
      "\" I 'm done \" : Fed up with <California/> , some conservatives look to Texas pancakes  vs  life\n",
      "\" Our expectations of what civic engagement looks like do n’t match reality . Can we <fix/> that ? \" imagine  vs  smells\n"
     ]
    }
   ],
   "source": [
    "for i in range(5):\n",
    "    print(funniest['original1'][i],funniest['edit1'][i],' vs ',funniest['edit2'][i])"
   ]
  },
  {
   "cell_type": "code",
   "execution_count": null,
   "metadata": {},
   "outputs": [],
   "source": []
  }
 ],
 "metadata": {
  "accelerator": "GPU",
  "colab": {
   "name": "exploratory.ipynb",
   "provenance": []
  },
  "kernelspec": {
   "display_name": "Python 3",
   "language": "python",
   "name": "python3"
  },
  "language_info": {
   "codemirror_mode": {
    "name": "ipython",
    "version": 3
   },
   "file_extension": ".py",
   "mimetype": "text/x-python",
   "name": "python",
   "nbconvert_exporter": "python",
   "pygments_lexer": "ipython3",
   "version": "3.7.7"
  }
 },
 "nbformat": 4,
 "nbformat_minor": 4
}
