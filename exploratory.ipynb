{
  "nbformat": 4,
  "nbformat_minor": 0,
  "metadata": {
    "accelerator": "GPU",
    "colab": {
      "name": "exploratory.ipynb",
      "provenance": [],
      "collapsed_sections": [],
      "toc_visible": true
    },
    "kernelspec": {
      "display_name": "Python 3",
      "language": "python",
      "name": "python3"
    },
    "language_info": {
      "codemirror_mode": {
        "name": "ipython",
        "version": 3
      },
      "file_extension": ".py",
      "mimetype": "text/x-python",
      "name": "python",
      "nbconvert_exporter": "python",
      "pygments_lexer": "ipython3",
      "version": "3.7.7"
    }
  },
  "cells": [
    {
      "cell_type": "code",
      "metadata": {
        "colab": {
          "base_uri": "https://localhost:8080/",
          "height": 416
        },
        "id": "igEDOspIHGtH",
        "outputId": "d542cc45-d66d-4cc0-d20a-21e60e2e410f"
      },
      "source": [
        "from google.colab import drive\n",
        "drive.mount('/content/drive')\n",
        "%cd /content/drive/MyDrive/"
      ],
      "execution_count": 162,
      "outputs": [
        {
          "output_type": "stream",
          "text": [
            "Go to this URL in a browser: https://accounts.google.com/o/oauth2/auth?client_id=947318989803-6bn6qk8qdgf4n4g3pfee6491hc0brc4i.apps.googleusercontent.com&redirect_uri=urn%3aietf%3awg%3aoauth%3a2.0%3aoob&scope=email%20https%3a%2f%2fwww.googleapis.com%2fauth%2fdocs.test%20https%3a%2f%2fwww.googleapis.com%2fauth%2fdrive%20https%3a%2f%2fwww.googleapis.com%2fauth%2fdrive.photos.readonly%20https%3a%2f%2fwww.googleapis.com%2fauth%2fpeopleapi.readonly%20https%3a%2f%2fwww.googleapis.com%2fauth%2fdrive.activity.readonly&response_type=code\n",
            "\n",
            "Enter your authorization code:\n",
            "q\n"
          ],
          "name": "stdout"
        },
        {
          "output_type": "error",
          "ename": "ValueError",
          "evalue": "ignored",
          "traceback": [
            "\u001b[0;31m---------------------------------------------------------------------------\u001b[0m",
            "\u001b[0;31mValueError\u001b[0m                                Traceback (most recent call last)",
            "\u001b[0;32m<ipython-input-162-616833770f62>\u001b[0m in \u001b[0;36m<module>\u001b[0;34m()\u001b[0m\n\u001b[1;32m      1\u001b[0m \u001b[0;32mfrom\u001b[0m \u001b[0mgoogle\u001b[0m\u001b[0;34m.\u001b[0m\u001b[0mcolab\u001b[0m \u001b[0;32mimport\u001b[0m \u001b[0mdrive\u001b[0m\u001b[0;34m\u001b[0m\u001b[0;34m\u001b[0m\u001b[0m\n\u001b[0;32m----> 2\u001b[0;31m \u001b[0mdrive\u001b[0m\u001b[0;34m.\u001b[0m\u001b[0mmount\u001b[0m\u001b[0;34m(\u001b[0m\u001b[0;34m'/content/drive'\u001b[0m\u001b[0;34m)\u001b[0m\u001b[0;34m\u001b[0m\u001b[0;34m\u001b[0m\u001b[0m\n\u001b[0m\u001b[1;32m      3\u001b[0m \u001b[0mget_ipython\u001b[0m\u001b[0;34m(\u001b[0m\u001b[0;34m)\u001b[0m\u001b[0;34m.\u001b[0m\u001b[0mmagic\u001b[0m\u001b[0;34m(\u001b[0m\u001b[0;34m'cd /content/drive/MyDrive/'\u001b[0m\u001b[0;34m)\u001b[0m\u001b[0;34m\u001b[0m\u001b[0;34m\u001b[0m\u001b[0m\n",
            "\u001b[0;32m/usr/local/lib/python3.6/dist-packages/google/colab/drive.py\u001b[0m in \u001b[0;36mmount\u001b[0;34m(mountpoint, force_remount, timeout_ms, use_metadata_server)\u001b[0m\n\u001b[1;32m    263\u001b[0m       \u001b[0mwrote_to_fifo\u001b[0m \u001b[0;34m=\u001b[0m \u001b[0;32mTrue\u001b[0m\u001b[0;34m\u001b[0m\u001b[0;34m\u001b[0m\u001b[0m\n\u001b[1;32m    264\u001b[0m     \u001b[0;32melif\u001b[0m \u001b[0mcase\u001b[0m \u001b[0;34m==\u001b[0m \u001b[0;36m5\u001b[0m\u001b[0;34m:\u001b[0m\u001b[0;34m\u001b[0m\u001b[0;34m\u001b[0m\u001b[0m\n\u001b[0;32m--> 265\u001b[0;31m       \u001b[0;32mraise\u001b[0m \u001b[0mValueError\u001b[0m\u001b[0;34m(\u001b[0m\u001b[0;34m'mount failed: invalid oauth code'\u001b[0m\u001b[0;34m)\u001b[0m\u001b[0;34m\u001b[0m\u001b[0;34m\u001b[0m\u001b[0m\n\u001b[0m\u001b[1;32m    266\u001b[0m     \u001b[0;32melif\u001b[0m \u001b[0mcase\u001b[0m \u001b[0;34m==\u001b[0m \u001b[0;36m6\u001b[0m\u001b[0;34m:\u001b[0m\u001b[0;34m\u001b[0m\u001b[0;34m\u001b[0m\u001b[0m\n\u001b[1;32m    267\u001b[0m       raise ValueError(\n",
            "\u001b[0;31mValueError\u001b[0m: mount failed: invalid oauth code"
          ]
        }
      ]
    },
    {
      "cell_type": "code",
      "metadata": {
        "id": "lCjg2AtEHMN4"
      },
      "source": [
        "# Imports\n",
        "\n",
        "import torch\n",
        "import torch.nn as nn\n",
        "import pandas as pd\n",
        "import numpy as np\n",
        "import re\n",
        "from IPython.display import HTML\n",
        "from sklearn.feature_extraction.text import CountVectorizer\n",
        "from torch.utils.data import Dataset, random_split\n",
        "from sklearn.feature_extraction.text import TfidfTransformer\n",
        "from sklearn.model_selection import train_test_split\n",
        "from sklearn.linear_model import LinearRegression\n",
        "import codecs"
      ],
      "execution_count": 227,
      "outputs": []
    },
    {
      "cell_type": "code",
      "metadata": {
        "id": "xhpNarFsHNgu"
      },
      "source": [
        "# Setting random seed and device\n",
        "SEED = 1\n",
        "\n",
        "torch.manual_seed(SEED)\n",
        "torch.cuda.manual_seed(SEED)\n",
        "torch.backends.cudnn.deterministic = True\n",
        "\n",
        "use_cuda = torch.cuda.is_available()\n",
        "device = torch.device(\"cuda:0\" if use_cuda else \"cpu\")"
      ],
      "execution_count": 228,
      "outputs": []
    },
    {
      "cell_type": "code",
      "metadata": {
        "id": "fws9cJv30wQm"
      },
      "source": [
        "# Full width display\r\n",
        "pd.set_option('display.max_colwidth', None)\r\n",
        "pd.set_option('display.width', None)"
      ],
      "execution_count": 229,
      "outputs": []
    },
    {
      "cell_type": "markdown",
      "metadata": {
        "id": "N3_iY620Hjfm"
      },
      "source": [
        "# TASK 1"
      ]
    },
    {
      "cell_type": "code",
      "metadata": {
        "id": "vktYO8beHVfH"
      },
      "source": [
        "# Load data\n",
        "train_df = pd.read_csv('train.csv', dtype={'grades': 'string'})\n",
        "train_df['grades'] = train_df['grades'].str.replace('', ' ').str.strip()\n",
        "\n",
        "#test_df = pd.read_csv('data/task-1/dev.csv')\n",
        "#test_df['grades'] = test_df['grades'].str.replace('', ' ').str.strip()"
      ],
      "execution_count": 230,
      "outputs": []
    },
    {
      "cell_type": "code",
      "metadata": {
        "colab": {
          "base_uri": "https://localhost:8080/"
        },
        "id": "pGjtgNVfHmye",
        "outputId": "a2efa19d-e812-4966-d674-74b418c18db1"
      },
      "source": [
        "train_df.info()"
      ],
      "execution_count": 231,
      "outputs": [
        {
          "output_type": "stream",
          "text": [
            "<class 'pandas.core.frame.DataFrame'>\n",
            "RangeIndex: 9652 entries, 0 to 9651\n",
            "Data columns (total 5 columns):\n",
            " #   Column     Non-Null Count  Dtype  \n",
            "---  ------     --------------  -----  \n",
            " 0   id         9652 non-null   int64  \n",
            " 1   original   9652 non-null   object \n",
            " 2   edit       9652 non-null   object \n",
            " 3   grades     9652 non-null   string \n",
            " 4   meanGrade  9652 non-null   float64\n",
            "dtypes: float64(1), int64(1), object(2), string(1)\n",
            "memory usage: 377.2+ KB\n"
          ],
          "name": "stdout"
        }
      ]
    },
    {
      "cell_type": "code",
      "metadata": {
        "id": "ubg4tds1HpFm"
      },
      "source": [
        "#test_df.info()"
      ],
      "execution_count": 232,
      "outputs": []
    },
    {
      "cell_type": "code",
      "metadata": {
        "colab": {
          "base_uri": "https://localhost:8080/",
          "height": 238
        },
        "id": "gYjZ4uVfHXJI",
        "outputId": "bf40a1db-6d62-4c01-aa62-2b9f287dd3e5"
      },
      "source": [
        "print(train_df['original'][0])\r\n",
        "print()\r\n",
        "train_df.head()"
      ],
      "execution_count": 233,
      "outputs": [
        {
          "output_type": "stream",
          "text": [
            "France is ‘ hunting down its citizens who joined <Isis/> ’ without trial in Iraq\n",
            "\n"
          ],
          "name": "stdout"
        },
        {
          "output_type": "execute_result",
          "data": {
            "text/html": [
              "<div>\n",
              "<style scoped>\n",
              "    .dataframe tbody tr th:only-of-type {\n",
              "        vertical-align: middle;\n",
              "    }\n",
              "\n",
              "    .dataframe tbody tr th {\n",
              "        vertical-align: top;\n",
              "    }\n",
              "\n",
              "    .dataframe thead th {\n",
              "        text-align: right;\n",
              "    }\n",
              "</style>\n",
              "<table border=\"1\" class=\"dataframe\">\n",
              "  <thead>\n",
              "    <tr style=\"text-align: right;\">\n",
              "      <th></th>\n",
              "      <th>id</th>\n",
              "      <th>original</th>\n",
              "      <th>edit</th>\n",
              "      <th>grades</th>\n",
              "      <th>meanGrade</th>\n",
              "    </tr>\n",
              "  </thead>\n",
              "  <tbody>\n",
              "    <tr>\n",
              "      <th>0</th>\n",
              "      <td>14530</td>\n",
              "      <td>France is ‘ hunting down its citizens who joined &lt;Isis/&gt; ’ without trial in Iraq</td>\n",
              "      <td>twins</td>\n",
              "      <td>1 0 0 0 0</td>\n",
              "      <td>0.2</td>\n",
              "    </tr>\n",
              "    <tr>\n",
              "      <th>1</th>\n",
              "      <td>13034</td>\n",
              "      <td>Pentagon claims 2,000 % increase in Russian trolls after &lt;Syria/&gt; strikes . What does that mean ?</td>\n",
              "      <td>bowling</td>\n",
              "      <td>3 3 1 1 0</td>\n",
              "      <td>1.6</td>\n",
              "    </tr>\n",
              "    <tr>\n",
              "      <th>2</th>\n",
              "      <td>8731</td>\n",
              "      <td>Iceland PM Calls Snap Vote as Pedophile Furor Crashes &lt;Coalition/&gt;</td>\n",
              "      <td>party</td>\n",
              "      <td>2 2 1 0 0</td>\n",
              "      <td>1.0</td>\n",
              "    </tr>\n",
              "    <tr>\n",
              "      <th>3</th>\n",
              "      <td>76</td>\n",
              "      <td>In an apparent first , Iran and Israel &lt;engage/&gt; each other militarily</td>\n",
              "      <td>slap</td>\n",
              "      <td>2 0 0 0 0</td>\n",
              "      <td>0.4</td>\n",
              "    </tr>\n",
              "    <tr>\n",
              "      <th>4</th>\n",
              "      <td>6164</td>\n",
              "      <td>Trump was told weeks ago that Flynn misled &lt;Vice/&gt; President .</td>\n",
              "      <td>school</td>\n",
              "      <td>0 0 0 0 0</td>\n",
              "      <td>0.0</td>\n",
              "    </tr>\n",
              "  </tbody>\n",
              "</table>\n",
              "</div>"
            ],
            "text/plain": [
              "      id  ... meanGrade\n",
              "0  14530  ...       0.2\n",
              "1  13034  ...       1.6\n",
              "2   8731  ...       1.0\n",
              "3     76  ...       0.4\n",
              "4   6164  ...       0.0\n",
              "\n",
              "[5 rows x 5 columns]"
            ]
          },
          "metadata": {
            "tags": []
          },
          "execution_count": 233
        }
      ]
    },
    {
      "cell_type": "code",
      "metadata": {
        "id": "0jdk-eYRq0ln"
      },
      "source": [
        "# Expanding the stupidly jointed grades\r\n",
        "\r\n",
        "grade_names = []\r\n",
        "for i in range(15):\r\n",
        "    grade_names.append(f'grade {i+1}')\r\n",
        "train_df[grade_names] = train_df['grades'].str.split(' ', expand=True)\r\n",
        "\r\n",
        "# Turn valid grades to int, missing ones to NaN\r\n",
        "train_df[grade_names] = train_df[grade_names].apply(pd.to_numeric, errors='coerce')"
      ],
      "execution_count": 236,
      "outputs": []
    },
    {
      "cell_type": "code",
      "metadata": {
        "colab": {
          "base_uri": "https://localhost:8080/",
          "height": 825
        },
        "id": "AHeFDDYbujcv",
        "outputId": "fdcc1271-2b1b-4f1e-a865-1fdce02faca0"
      },
      "source": [
        "train_df.head()\r\n",
        "\r\n",
        "# Whole df as html \r\n",
        "# HTML(train_df.to_html())"
      ],
      "execution_count": 237,
      "outputs": [
        {
          "output_type": "execute_result",
          "data": {
            "text/html": [
              "<div>\n",
              "<style scoped>\n",
              "    .dataframe tbody tr th:only-of-type {\n",
              "        vertical-align: middle;\n",
              "    }\n",
              "\n",
              "    .dataframe tbody tr th {\n",
              "        vertical-align: top;\n",
              "    }\n",
              "\n",
              "    .dataframe thead th {\n",
              "        text-align: right;\n",
              "    }\n",
              "</style>\n",
              "<table border=\"1\" class=\"dataframe\">\n",
              "  <thead>\n",
              "    <tr style=\"text-align: right;\">\n",
              "      <th></th>\n",
              "      <th>id</th>\n",
              "      <th>original</th>\n",
              "      <th>edit</th>\n",
              "      <th>grades</th>\n",
              "      <th>meanGrade</th>\n",
              "      <th>grade 1</th>\n",
              "      <th>grade 2</th>\n",
              "      <th>grade 3</th>\n",
              "      <th>grade 4</th>\n",
              "      <th>grade 5</th>\n",
              "      <th>grade 6</th>\n",
              "      <th>grade 7</th>\n",
              "      <th>grade 8</th>\n",
              "      <th>grade 9</th>\n",
              "      <th>grade 10</th>\n",
              "      <th>grade 11</th>\n",
              "      <th>grade 12</th>\n",
              "      <th>grade 13</th>\n",
              "      <th>grade 14</th>\n",
              "      <th>grade 15</th>\n",
              "    </tr>\n",
              "  </thead>\n",
              "  <tbody>\n",
              "    <tr>\n",
              "      <th>0</th>\n",
              "      <td>14530</td>\n",
              "      <td>France is ‘ hunting down its citizens who joined &lt;Isis/&gt; ’ without trial in Iraq</td>\n",
              "      <td>twins</td>\n",
              "      <td>1 0 0 0 0</td>\n",
              "      <td>0.2</td>\n",
              "      <td>1</td>\n",
              "      <td>0</td>\n",
              "      <td>0</td>\n",
              "      <td>0</td>\n",
              "      <td>0</td>\n",
              "      <td>NaN</td>\n",
              "      <td>NaN</td>\n",
              "      <td>NaN</td>\n",
              "      <td>NaN</td>\n",
              "      <td>NaN</td>\n",
              "      <td>NaN</td>\n",
              "      <td>NaN</td>\n",
              "      <td>NaN</td>\n",
              "      <td>NaN</td>\n",
              "      <td>NaN</td>\n",
              "    </tr>\n",
              "    <tr>\n",
              "      <th>1</th>\n",
              "      <td>13034</td>\n",
              "      <td>Pentagon claims 2,000 % increase in Russian trolls after &lt;Syria/&gt; strikes . What does that mean ?</td>\n",
              "      <td>bowling</td>\n",
              "      <td>3 3 1 1 0</td>\n",
              "      <td>1.6</td>\n",
              "      <td>3</td>\n",
              "      <td>3</td>\n",
              "      <td>1</td>\n",
              "      <td>1</td>\n",
              "      <td>0</td>\n",
              "      <td>NaN</td>\n",
              "      <td>NaN</td>\n",
              "      <td>NaN</td>\n",
              "      <td>NaN</td>\n",
              "      <td>NaN</td>\n",
              "      <td>NaN</td>\n",
              "      <td>NaN</td>\n",
              "      <td>NaN</td>\n",
              "      <td>NaN</td>\n",
              "      <td>NaN</td>\n",
              "    </tr>\n",
              "    <tr>\n",
              "      <th>2</th>\n",
              "      <td>8731</td>\n",
              "      <td>Iceland PM Calls Snap Vote as Pedophile Furor Crashes &lt;Coalition/&gt;</td>\n",
              "      <td>party</td>\n",
              "      <td>2 2 1 0 0</td>\n",
              "      <td>1.0</td>\n",
              "      <td>2</td>\n",
              "      <td>2</td>\n",
              "      <td>1</td>\n",
              "      <td>0</td>\n",
              "      <td>0</td>\n",
              "      <td>NaN</td>\n",
              "      <td>NaN</td>\n",
              "      <td>NaN</td>\n",
              "      <td>NaN</td>\n",
              "      <td>NaN</td>\n",
              "      <td>NaN</td>\n",
              "      <td>NaN</td>\n",
              "      <td>NaN</td>\n",
              "      <td>NaN</td>\n",
              "      <td>NaN</td>\n",
              "    </tr>\n",
              "    <tr>\n",
              "      <th>3</th>\n",
              "      <td>76</td>\n",
              "      <td>In an apparent first , Iran and Israel &lt;engage/&gt; each other militarily</td>\n",
              "      <td>slap</td>\n",
              "      <td>2 0 0 0 0</td>\n",
              "      <td>0.4</td>\n",
              "      <td>2</td>\n",
              "      <td>0</td>\n",
              "      <td>0</td>\n",
              "      <td>0</td>\n",
              "      <td>0</td>\n",
              "      <td>NaN</td>\n",
              "      <td>NaN</td>\n",
              "      <td>NaN</td>\n",
              "      <td>NaN</td>\n",
              "      <td>NaN</td>\n",
              "      <td>NaN</td>\n",
              "      <td>NaN</td>\n",
              "      <td>NaN</td>\n",
              "      <td>NaN</td>\n",
              "      <td>NaN</td>\n",
              "    </tr>\n",
              "    <tr>\n",
              "      <th>4</th>\n",
              "      <td>6164</td>\n",
              "      <td>Trump was told weeks ago that Flynn misled &lt;Vice/&gt; President .</td>\n",
              "      <td>school</td>\n",
              "      <td>0 0 0 0 0</td>\n",
              "      <td>0.0</td>\n",
              "      <td>0</td>\n",
              "      <td>0</td>\n",
              "      <td>0</td>\n",
              "      <td>0</td>\n",
              "      <td>0</td>\n",
              "      <td>NaN</td>\n",
              "      <td>NaN</td>\n",
              "      <td>NaN</td>\n",
              "      <td>NaN</td>\n",
              "      <td>NaN</td>\n",
              "      <td>NaN</td>\n",
              "      <td>NaN</td>\n",
              "      <td>NaN</td>\n",
              "      <td>NaN</td>\n",
              "      <td>NaN</td>\n",
              "    </tr>\n",
              "  </tbody>\n",
              "</table>\n",
              "</div>"
            ],
            "text/plain": [
              "      id  ... grade 15\n",
              "0  14530  ...      NaN\n",
              "1  13034  ...      NaN\n",
              "2   8731  ...      NaN\n",
              "3     76  ...      NaN\n",
              "4   6164  ...      NaN\n",
              "\n",
              "[5 rows x 20 columns]"
            ]
          },
          "metadata": {
            "tags": []
          },
          "execution_count": 237
        }
      ]
    },
    {
      "cell_type": "code",
      "metadata": {
        "colab": {
          "base_uri": "https://localhost:8080/"
        },
        "id": "D40MQ9PM5buu",
        "outputId": "13851082-6076-40b7-99ea-f8412963f6f4"
      },
      "source": [
        "train_df.info()"
      ],
      "execution_count": 239,
      "outputs": [
        {
          "output_type": "stream",
          "text": [
            "<class 'pandas.core.frame.DataFrame'>\n",
            "RangeIndex: 9652 entries, 0 to 9651\n",
            "Data columns (total 20 columns):\n",
            " #   Column     Non-Null Count  Dtype  \n",
            "---  ------     --------------  -----  \n",
            " 0   id         9652 non-null   int64  \n",
            " 1   original   9652 non-null   object \n",
            " 2   edit       9652 non-null   object \n",
            " 3   grades     9652 non-null   string \n",
            " 4   meanGrade  9652 non-null   float64\n",
            " 5   grade 1    9652 non-null   int64  \n",
            " 6   grade 2    9652 non-null   int64  \n",
            " 7   grade 3    9652 non-null   int64  \n",
            " 8   grade 4    9652 non-null   int64  \n",
            " 9   grade 5    9652 non-null   int64  \n",
            " 10  grade 6    142 non-null    float64\n",
            " 11  grade 7    142 non-null    float64\n",
            " 12  grade 8    142 non-null    float64\n",
            " 13  grade 9    142 non-null    float64\n",
            " 14  grade 10   142 non-null    float64\n",
            " 15  grade 11   6 non-null      float64\n",
            " 16  grade 12   6 non-null      float64\n",
            " 17  grade 13   6 non-null      float64\n",
            " 18  grade 14   6 non-null      float64\n",
            " 19  grade 15   6 non-null      float64\n",
            "dtypes: float64(11), int64(6), object(2), string(1)\n",
            "memory usage: 1.5+ MB\n"
          ],
          "name": "stdout"
        }
      ]
    },
    {
      "cell_type": "markdown",
      "metadata": {
        "id": "sy9zVYgq6FpM"
      },
      "source": [
        "How to best handle the 6 with 15 grads and the 142 with 10 grades?"
      ]
    },
    {
      "cell_type": "code",
      "metadata": {
        "colab": {
          "base_uri": "https://localhost:8080/",
          "height": 417
        },
        "id": "vaBCQt3DHYPd",
        "outputId": "353a2ace-624e-407d-e0cb-b78ed7b43785"
      },
      "source": [
        "train_df.sort_values('meanGrade',ascending=False)[['original','edit', 'meanGrade']]"
      ],
      "execution_count": 190,
      "outputs": [
        {
          "output_type": "execute_result",
          "data": {
            "text/html": [
              "<div>\n",
              "<style scoped>\n",
              "    .dataframe tbody tr th:only-of-type {\n",
              "        vertical-align: middle;\n",
              "    }\n",
              "\n",
              "    .dataframe tbody tr th {\n",
              "        vertical-align: top;\n",
              "    }\n",
              "\n",
              "    .dataframe thead th {\n",
              "        text-align: right;\n",
              "    }\n",
              "</style>\n",
              "<table border=\"1\" class=\"dataframe\">\n",
              "  <thead>\n",
              "    <tr style=\"text-align: right;\">\n",
              "      <th></th>\n",
              "      <th>original</th>\n",
              "      <th>edit</th>\n",
              "      <th>meanGrade</th>\n",
              "    </tr>\n",
              "  </thead>\n",
              "  <tbody>\n",
              "    <tr>\n",
              "      <th>6075</th>\n",
              "      <td>Recent Scandals Highlight Trump 's Chaotic &lt;Management/&gt; Style</td>\n",
              "      <td>Fashion</td>\n",
              "      <td>3.0</td>\n",
              "    </tr>\n",
              "    <tr>\n",
              "      <th>1490</th>\n",
              "      <td>President Trump 's first year &lt;anniversary/&gt; report card , with grades from A + to F</td>\n",
              "      <td>Kindergarten</td>\n",
              "      <td>3.0</td>\n",
              "    </tr>\n",
              "    <tr>\n",
              "      <th>4438</th>\n",
              "      <td>How an FBI raid fed a rumor that Orrin Hatch was about to become &lt;president/&gt;</td>\n",
              "      <td>pregnant</td>\n",
              "      <td>2.8</td>\n",
              "    </tr>\n",
              "    <tr>\n",
              "      <th>8726</th>\n",
              "      <td>Trump admits tariffs could cause ' pain ' in &lt;markets/&gt;</td>\n",
              "      <td>buttock</td>\n",
              "      <td>2.8</td>\n",
              "    </tr>\n",
              "    <tr>\n",
              "      <th>6946</th>\n",
              "      <td>Kasich : Trump &lt;tweets/&gt; ‘ unacceptable ’</td>\n",
              "      <td>hair</td>\n",
              "      <td>2.8</td>\n",
              "    </tr>\n",
              "    <tr>\n",
              "      <th>...</th>\n",
              "      <td>...</td>\n",
              "      <td>...</td>\n",
              "      <td>...</td>\n",
              "    </tr>\n",
              "    <tr>\n",
              "      <th>9250</th>\n",
              "      <td>It did n’t end at the ballot box : &lt;Donald Trump/&gt; ’s biggest supporters now push for a divisive agenda</td>\n",
              "      <td>cutlery</td>\n",
              "      <td>0.0</td>\n",
              "    </tr>\n",
              "    <tr>\n",
              "      <th>1237</th>\n",
              "      <td>Delhi Police Say They 've Captured Most-Wanted Terrorist Known As ' &lt;India/&gt; 's Bin Laden '</td>\n",
              "      <td>Hindu</td>\n",
              "      <td>0.0</td>\n",
              "    </tr>\n",
              "    <tr>\n",
              "      <th>9253</th>\n",
              "      <td>Trump 's Climate-Denying Coal Lobbyist Nominee Inches Closer To EPA ’s No. 2 &lt;Job/&gt;</td>\n",
              "      <td>Mine</td>\n",
              "      <td>0.0</td>\n",
              "    </tr>\n",
              "    <tr>\n",
              "      <th>4421</th>\n",
              "      <td>Democratic division simmers at feel-good &lt;retreat/&gt;</td>\n",
              "      <td>stove</td>\n",
              "      <td>0.0</td>\n",
              "    </tr>\n",
              "    <tr>\n",
              "      <th>2885</th>\n",
              "      <td>U.S. Politics Are Rigged . It 's Time For a Small-Donor &lt;Revolution/&gt;</td>\n",
              "      <td>Petition</td>\n",
              "      <td>0.0</td>\n",
              "    </tr>\n",
              "  </tbody>\n",
              "</table>\n",
              "<p>9652 rows × 3 columns</p>\n",
              "</div>"
            ],
            "text/plain": [
              "                                                                                                     original  ... meanGrade\n",
              "6075                                           Recent Scandals Highlight Trump 's Chaotic <Management/> Style  ...       3.0\n",
              "1490                     President Trump 's first year <anniversary/> report card , with grades from A + to F  ...       3.0\n",
              "4438                           How an FBI raid fed a rumor that Orrin Hatch was about to become <president/>   ...       2.8\n",
              "8726                                                 Trump admits tariffs could cause ' pain ' in <markets/>   ...       2.8\n",
              "6946                                                                Kasich : Trump <tweets/> ‘ unacceptable ’  ...       2.8\n",
              "...                                                                                                       ...  ...       ...\n",
              "9250  It did n’t end at the ballot box : <Donald Trump/> ’s biggest supporters now push for a divisive agenda  ...       0.0\n",
              "1237              Delhi Police Say They 've Captured Most-Wanted Terrorist Known As ' <India/> 's Bin Laden '  ...       0.0\n",
              "9253                     Trump 's Climate-Denying Coal Lobbyist Nominee Inches Closer To EPA ’s No. 2 <Job/>   ...       0.0\n",
              "4421                                                     Democratic division simmers at feel-good <retreat/>   ...       0.0\n",
              "2885                                   U.S. Politics Are Rigged . It 's Time For a Small-Donor <Revolution/>   ...       0.0\n",
              "\n",
              "[9652 rows x 3 columns]"
            ]
          },
          "metadata": {
            "tags": []
          },
          "execution_count": 190
        }
      ]
    },
    {
      "cell_type": "markdown",
      "metadata": {
        "id": "yp-FADWdljf0"
      },
      "source": [
        "# TASK 2"
      ]
    },
    {
      "cell_type": "code",
      "metadata": {
        "id": "PQd9-yLunBB5"
      },
      "source": [
        "# Load data\n",
        "train_df = pd.read_csv('data/task-2/train.csv')\n",
        "test_df = pd.read_csv('data/task-2/dev.csv')"
      ],
      "execution_count": null,
      "outputs": []
    },
    {
      "cell_type": "code",
      "metadata": {
        "id": "Sa2Vog-JnBB6",
        "outputId": "267a7271-ef08-4d13-8954-6a778936b2b3"
      },
      "source": [
        "train_df.info()"
      ],
      "execution_count": null,
      "outputs": [
        {
          "output_type": "stream",
          "text": [
            "<class 'pandas.core.frame.DataFrame'>\n",
            "RangeIndex: 9381 entries, 0 to 9380\n",
            "Data columns (total 10 columns):\n",
            " #   Column      Non-Null Count  Dtype  \n",
            "---  ------      --------------  -----  \n",
            " 0   id          9381 non-null   object \n",
            " 1   original1   9381 non-null   object \n",
            " 2   edit1       9381 non-null   object \n",
            " 3   grades1     9381 non-null   int64  \n",
            " 4   meanGrade1  9381 non-null   float64\n",
            " 5   original2   9381 non-null   object \n",
            " 6   edit2       9381 non-null   object \n",
            " 7   grades2     9381 non-null   int64  \n",
            " 8   meanGrade2  9381 non-null   float64\n",
            " 9   label       9381 non-null   int64  \n",
            "dtypes: float64(2), int64(3), object(5)\n",
            "memory usage: 733.0+ KB\n"
          ],
          "name": "stdout"
        }
      ]
    },
    {
      "cell_type": "code",
      "metadata": {
        "id": "WNVlHcY0nBB6",
        "outputId": "9145f99c-0615-4b26-bcc0-cbcba52a62d1"
      },
      "source": [
        "train_df"
      ],
      "execution_count": null,
      "outputs": [
        {
          "output_type": "execute_result",
          "data": {
            "text/html": [
              "<div>\n",
              "<style scoped>\n",
              "    .dataframe tbody tr th:only-of-type {\n",
              "        vertical-align: middle;\n",
              "    }\n",
              "\n",
              "    .dataframe tbody tr th {\n",
              "        vertical-align: top;\n",
              "    }\n",
              "\n",
              "    .dataframe thead th {\n",
              "        text-align: right;\n",
              "    }\n",
              "</style>\n",
              "<table border=\"1\" class=\"dataframe\">\n",
              "  <thead>\n",
              "    <tr style=\"text-align: right;\">\n",
              "      <th></th>\n",
              "      <th>id</th>\n",
              "      <th>original1</th>\n",
              "      <th>edit1</th>\n",
              "      <th>grades1</th>\n",
              "      <th>meanGrade1</th>\n",
              "      <th>original2</th>\n",
              "      <th>edit2</th>\n",
              "      <th>grades2</th>\n",
              "      <th>meanGrade2</th>\n",
              "      <th>label</th>\n",
              "    </tr>\n",
              "  </thead>\n",
              "  <tbody>\n",
              "    <tr>\n",
              "      <th>0</th>\n",
              "      <td>10920-9866</td>\n",
              "      <td>\" Gene Cernan , Last &lt;Astronaut/&gt; on the Moon ...</td>\n",
              "      <td>Dancer</td>\n",
              "      <td>1113</td>\n",
              "      <td>1.2</td>\n",
              "      <td>\" Gene Cernan , Last Astronaut on the Moon , &lt;...</td>\n",
              "      <td>impregnated</td>\n",
              "      <td>30001</td>\n",
              "      <td>0.8</td>\n",
              "      <td>1</td>\n",
              "    </tr>\n",
              "    <tr>\n",
              "      <th>1</th>\n",
              "      <td>3176-10722</td>\n",
              "      <td>\" I 'm done \" : Fed up with California , some ...</td>\n",
              "      <td>vagrants</td>\n",
              "      <td>1200</td>\n",
              "      <td>0.6</td>\n",
              "      <td>\" I 'm done \" : Fed up with &lt;California/&gt; , so...</td>\n",
              "      <td>pancakes</td>\n",
              "      <td>10110</td>\n",
              "      <td>0.6</td>\n",
              "      <td>0</td>\n",
              "    </tr>\n",
              "    <tr>\n",
              "      <th>2</th>\n",
              "      <td>3176-3702</td>\n",
              "      <td>\" I 'm done \" : Fed up with California , some ...</td>\n",
              "      <td>vagrants</td>\n",
              "      <td>1200</td>\n",
              "      <td>0.6</td>\n",
              "      <td>\" I 'm done \" : Fed up with &lt;California/&gt; , so...</td>\n",
              "      <td>life</td>\n",
              "      <td>2</td>\n",
              "      <td>0.4</td>\n",
              "      <td>1</td>\n",
              "    </tr>\n",
              "    <tr>\n",
              "      <th>3</th>\n",
              "      <td>10722-3702</td>\n",
              "      <td>\" I 'm done \" : Fed up with &lt;California/&gt; , so...</td>\n",
              "      <td>pancakes</td>\n",
              "      <td>10110</td>\n",
              "      <td>0.6</td>\n",
              "      <td>\" I 'm done \" : Fed up with &lt;California/&gt; , so...</td>\n",
              "      <td>life</td>\n",
              "      <td>2</td>\n",
              "      <td>0.4</td>\n",
              "      <td>1</td>\n",
              "    </tr>\n",
              "    <tr>\n",
              "      <th>4</th>\n",
              "      <td>12282-2083</td>\n",
              "      <td>\" Our expectations of what civic engagement lo...</td>\n",
              "      <td>imagine</td>\n",
              "      <td>0</td>\n",
              "      <td>0.0</td>\n",
              "      <td>\" Our expectations of what civic engagement &lt;l...</td>\n",
              "      <td>smells</td>\n",
              "      <td>100220010</td>\n",
              "      <td>0.6</td>\n",
              "      <td>2</td>\n",
              "    </tr>\n",
              "    <tr>\n",
              "      <th>...</th>\n",
              "      <td>...</td>\n",
              "      <td>...</td>\n",
              "      <td>...</td>\n",
              "      <td>...</td>\n",
              "      <td>...</td>\n",
              "      <td>...</td>\n",
              "      <td>...</td>\n",
              "      <td>...</td>\n",
              "      <td>...</td>\n",
              "      <td>...</td>\n",
              "    </tr>\n",
              "    <tr>\n",
              "      <th>9376</th>\n",
              "      <td>975-13357</td>\n",
              "      <td>“ It ’s painfully obvious \" Mueller will charg...</td>\n",
              "      <td>battery</td>\n",
              "      <td>1</td>\n",
              "      <td>0.2</td>\n",
              "      <td>“ It ’s painfully obvious \" Mueller will charg...</td>\n",
              "      <td>plumbing</td>\n",
              "      <td>11103</td>\n",
              "      <td>1.2</td>\n",
              "      <td>2</td>\n",
              "    </tr>\n",
              "    <tr>\n",
              "      <th>9377</th>\n",
              "      <td>975-11773</td>\n",
              "      <td>“ It ’s painfully obvious \" Mueller will charg...</td>\n",
              "      <td>battery</td>\n",
              "      <td>1</td>\n",
              "      <td>0.2</td>\n",
              "      <td>“ It ’s painfully obvious \" Mueller will &lt;char...</td>\n",
              "      <td>strangle</td>\n",
              "      <td>22331</td>\n",
              "      <td>2.2</td>\n",
              "      <td>2</td>\n",
              "    </tr>\n",
              "    <tr>\n",
              "      <th>9378</th>\n",
              "      <td>13357-11773</td>\n",
              "      <td>“ It ’s painfully obvious \" Mueller will charg...</td>\n",
              "      <td>plumbing</td>\n",
              "      <td>11103</td>\n",
              "      <td>1.2</td>\n",
              "      <td>“ It ’s painfully obvious \" Mueller will &lt;char...</td>\n",
              "      <td>strangle</td>\n",
              "      <td>22331</td>\n",
              "      <td>2.2</td>\n",
              "      <td>2</td>\n",
              "    </tr>\n",
              "    <tr>\n",
              "      <th>9379</th>\n",
              "      <td>14954-14479</td>\n",
              "      <td>“ Kompromat , ” media ethics and the law : Wha...</td>\n",
              "      <td>porn</td>\n",
              "      <td>20101</td>\n",
              "      <td>0.8</td>\n",
              "      <td>“ Kompromat , ” media ethics and the law : Wha...</td>\n",
              "      <td>dance</td>\n",
              "      <td>32112</td>\n",
              "      <td>1.8</td>\n",
              "      <td>2</td>\n",
              "    </tr>\n",
              "    <tr>\n",
              "      <th>9380</th>\n",
              "      <td>6354-12970</td>\n",
              "      <td>“ Son of a bitch ” : Trump ’s NFL &lt;outburst/&gt; ...</td>\n",
              "      <td>tantrum</td>\n",
              "      <td>3111130000</td>\n",
              "      <td>1.0</td>\n",
              "      <td>“ Son of a &lt;bitch/&gt; ” : Trump ’s NFL outburst ...</td>\n",
              "      <td>father</td>\n",
              "      <td>10000</td>\n",
              "      <td>0.2</td>\n",
              "      <td>1</td>\n",
              "    </tr>\n",
              "  </tbody>\n",
              "</table>\n",
              "<p>9381 rows × 10 columns</p>\n",
              "</div>"
            ],
            "text/plain": [
              "               id                                          original1  \\\n",
              "0      10920-9866  \" Gene Cernan , Last <Astronaut/> on the Moon ...   \n",
              "1      3176-10722  \" I 'm done \" : Fed up with California , some ...   \n",
              "2       3176-3702  \" I 'm done \" : Fed up with California , some ...   \n",
              "3      10722-3702  \" I 'm done \" : Fed up with <California/> , so...   \n",
              "4      12282-2083  \" Our expectations of what civic engagement lo...   \n",
              "...           ...                                                ...   \n",
              "9376    975-13357  “ It ’s painfully obvious \" Mueller will charg...   \n",
              "9377    975-11773  “ It ’s painfully obvious \" Mueller will charg...   \n",
              "9378  13357-11773  “ It ’s painfully obvious \" Mueller will charg...   \n",
              "9379  14954-14479  “ Kompromat , ” media ethics and the law : Wha...   \n",
              "9380   6354-12970  “ Son of a bitch ” : Trump ’s NFL <outburst/> ...   \n",
              "\n",
              "         edit1     grades1  meanGrade1  \\\n",
              "0       Dancer        1113         1.2   \n",
              "1     vagrants        1200         0.6   \n",
              "2     vagrants        1200         0.6   \n",
              "3     pancakes       10110         0.6   \n",
              "4      imagine           0         0.0   \n",
              "...        ...         ...         ...   \n",
              "9376   battery           1         0.2   \n",
              "9377   battery           1         0.2   \n",
              "9378  plumbing       11103         1.2   \n",
              "9379      porn       20101         0.8   \n",
              "9380   tantrum  3111130000         1.0   \n",
              "\n",
              "                                              original2        edit2  \\\n",
              "0     \" Gene Cernan , Last Astronaut on the Moon , <...  impregnated   \n",
              "1     \" I 'm done \" : Fed up with <California/> , so...     pancakes   \n",
              "2     \" I 'm done \" : Fed up with <California/> , so...         life   \n",
              "3     \" I 'm done \" : Fed up with <California/> , so...         life   \n",
              "4     \" Our expectations of what civic engagement <l...       smells   \n",
              "...                                                 ...          ...   \n",
              "9376  “ It ’s painfully obvious \" Mueller will charg...     plumbing   \n",
              "9377  “ It ’s painfully obvious \" Mueller will <char...     strangle   \n",
              "9378  “ It ’s painfully obvious \" Mueller will <char...     strangle   \n",
              "9379  “ Kompromat , ” media ethics and the law : Wha...        dance   \n",
              "9380  “ Son of a <bitch/> ” : Trump ’s NFL outburst ...       father   \n",
              "\n",
              "        grades2  meanGrade2  label  \n",
              "0         30001         0.8      1  \n",
              "1         10110         0.6      0  \n",
              "2             2         0.4      1  \n",
              "3             2         0.4      1  \n",
              "4     100220010         0.6      2  \n",
              "...         ...         ...    ...  \n",
              "9376      11103         1.2      2  \n",
              "9377      22331         2.2      2  \n",
              "9378      22331         2.2      2  \n",
              "9379      32112         1.8      2  \n",
              "9380      10000         0.2      1  \n",
              "\n",
              "[9381 rows x 10 columns]"
            ]
          },
          "metadata": {
            "tags": []
          },
          "execution_count": 8
        }
      ]
    },
    {
      "cell_type": "code",
      "metadata": {
        "id": "vVoAU839nBB7"
      },
      "source": [
        "funniest = train_df.sort_values('meanGrade1',ascending=False)[['original1','edit1','meanGrade1','edit2']]"
      ],
      "execution_count": null,
      "outputs": []
    },
    {
      "cell_type": "code",
      "metadata": {
        "id": "rxiecDq1nBB7",
        "outputId": "4a147e83-3751-4609-e4a8-f603eb7878a6"
      },
      "source": [
        "for i in range(5):\n",
        "    print(funniest['original1'][i],funniest['edit1'][i],' vs ',funniest['edit2'][i])"
      ],
      "execution_count": null,
      "outputs": [
        {
          "output_type": "stream",
          "text": [
            "\" Gene Cernan , Last <Astronaut/> on the Moon , Dies at 82 \" Dancer  vs  impregnated\n",
            "\" I 'm done \" : Fed up with California , some <conservatives/> look to Texas vagrants  vs  pancakes\n",
            "\" I 'm done \" : Fed up with California , some <conservatives/> look to Texas vagrants  vs  life\n",
            "\" I 'm done \" : Fed up with <California/> , some conservatives look to Texas pancakes  vs  life\n",
            "\" Our expectations of what civic engagement looks like do n’t match reality . Can we <fix/> that ? \" imagine  vs  smells\n"
          ],
          "name": "stdout"
        }
      ]
    },
    {
      "cell_type": "code",
      "metadata": {
        "id": "izsAMMNKnBB8"
      },
      "source": [
        ""
      ],
      "execution_count": null,
      "outputs": []
    }
  ]
}